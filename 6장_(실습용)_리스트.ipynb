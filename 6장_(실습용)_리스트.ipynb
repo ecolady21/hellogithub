{
  "nbformat": 4,
  "nbformat_minor": 0,
  "metadata": {
    "colab": {
      "provenance": [],
      "include_colab_link": true
    },
    "kernelspec": {
      "name": "python3",
      "display_name": "Python 3"
    }
  },
  "cells": [
    {
      "cell_type": "markdown",
      "metadata": {
        "id": "view-in-github",
        "colab_type": "text"
      },
      "source": [
        "<a href=\"https://colab.research.google.com/github/ecolady21/hellogithub/blob/main/6%EC%9E%A5_(%EC%8B%A4%EC%8A%B5%EC%9A%A9)_%EB%A6%AC%EC%8A%A4%ED%8A%B8.ipynb\" target=\"_parent\"><img src=\"https://colab.research.google.com/assets/colab-badge.svg\" alt=\"Open In Colab\"/></a>"
      ]
    },
    {
      "cell_type": "markdown",
      "metadata": {
        "id": "6n9IjADZt4Z5"
      },
      "source": [
        "#  1. 리스트\n",
        "\n",
        "```\n",
        "리스트 여러 데이터를 한 번에 묶어서 표현\n",
        "리스트이름 = [데이터1, 데이터2, ..., 데이터n]\n",
        "```\n",
        "\n",
        "> 실생활의 리스트 \n",
        "    \n",
        "<img src='https://github.com/teacher-jiejie/allinone_AI/blob/images/56_%EC%82%AC%EC%95%BC%ED%95%A0%20%EB%A6%AC%EC%8A%A4%ED%8A%B8.png?raw=true' width=150>\n",
        "\n",
        "</br>\n",
        "</br>\n",
        "\n",
        "> 파이썬의 리스트\n",
        "\n",
        "<img src='https://github.com/teacher-jiejie/allinone_AI/blob/images/6_%EB%A6%AC%EC%8A%A4%ED%8A%B8%EA%B0%9C%EB%85%90.png?raw=true' width=600>\n",
        "\n",
        "\n",
        "\n"
      ]
    },
    {
      "cell_type": "code",
      "metadata": {
        "id": "FAe8AhxFMRWQ"
      },
      "source": [
        "# 1월 지출부터 6월 지출까지 리스트로 만들기\n",
        "spending = [25, 36, 8, 53, 24, 56]"
      ],
      "execution_count": null,
      "outputs": []
    },
    {
      "cell_type": "code",
      "metadata": {
        "id": "AfL3S1RbMRZb",
        "colab": {
          "base_uri": "https://localhost:8080/"
        },
        "outputId": "20ac7e42-0f74-45f1-dcac-75bc30559cb6"
      },
      "source": [
        "print(spending)"
      ],
      "execution_count": null,
      "outputs": [
        {
          "output_type": "stream",
          "name": "stdout",
          "text": [
            "[25, 36, 8, 53, 24, 56]\n"
          ]
        }
      ]
    },
    {
      "cell_type": "code",
      "metadata": {
        "id": "pletqKwvMRcq",
        "colab": {
          "base_uri": "https://localhost:8080/"
        },
        "outputId": "ecf058c9-8070-45e2-82e1-18b993e475fc"
      },
      "source": [
        "type(spending)"
      ],
      "execution_count": null,
      "outputs": [
        {
          "output_type": "execute_result",
          "data": {
            "text/plain": [
              "list"
            ]
          },
          "metadata": {},
          "execution_count": 3
        }
      ]
    },
    {
      "cell_type": "markdown",
      "metadata": {
        "id": "TKe3-L5lNYYN"
      },
      "source": [
        "### 리스트와 인덱스\n",
        "<img src ='https://github.com/teacher-jiejie/allinone_AI/blob/images/7_%EB%A6%AC%EC%8A%A4%ED%8A%B8%EC%9D%B8%EB%8D%B1%EC%8A%A4.png?raw=true' width =700>"
      ]
    },
    {
      "cell_type": "code",
      "metadata": {
        "id": "l97FX7QOMlYm",
        "colab": {
          "base_uri": "https://localhost:8080/"
        },
        "outputId": "c6ad4d92-1e0d-43f0-f1ca-1b5ff491b5dd"
      },
      "source": [
        "# 1월 지출은?\n",
        "print(spending[0])"
      ],
      "execution_count": null,
      "outputs": [
        {
          "output_type": "stream",
          "name": "stdout",
          "text": [
            "25\n"
          ]
        }
      ]
    },
    {
      "cell_type": "code",
      "metadata": {
        "id": "XQJ_ouroMlaz",
        "colab": {
          "base_uri": "https://localhost:8080/"
        },
        "outputId": "d7b7744e-1786-4e00-c88e-edc0cbeb0f98"
      },
      "source": [
        "# 6월 지출은?\n",
        "print(spending[5])"
      ],
      "execution_count": null,
      "outputs": [
        {
          "output_type": "stream",
          "name": "stdout",
          "text": [
            "56\n"
          ]
        }
      ]
    },
    {
      "cell_type": "code",
      "metadata": {
        "id": "70ooJdGDMlh4",
        "colab": {
          "base_uri": "https://localhost:8080/"
        },
        "outputId": "b752a575-e1f7-4158-c1f6-c6b26f62133a"
      },
      "source": [
        "# 3월 지출은?\n",
        "print(spending[2])"
      ],
      "execution_count": null,
      "outputs": [
        {
          "output_type": "stream",
          "name": "stdout",
          "text": [
            "8\n"
          ]
        }
      ]
    },
    {
      "cell_type": "markdown",
      "metadata": {
        "id": "Er1EdCA3jfx3"
      },
      "source": [
        "알고보니 4월 지출이 10낮게 기록됐다. 4월 지출에 10을 더하시오"
      ]
    },
    {
      "cell_type": "code",
      "metadata": {
        "id": "tLt7P-A2Mlkq",
        "colab": {
          "base_uri": "https://localhost:8080/"
        },
        "outputId": "222364eb-1dca-4d1f-e864-0fb02a73ede9"
      },
      "source": [
        "print('변경 전 :', spending)\n",
        "spending[3] +=10\n",
        "print('변경 후 :', spending)\n"
      ],
      "execution_count": null,
      "outputs": [
        {
          "output_type": "stream",
          "name": "stdout",
          "text": [
            "변경 전 : [25, 36, 8, 53, 24, 56]\n",
            "변경 후 : [25, 36, 8, 63, 24, 56]\n"
          ]
        }
      ]
    },
    {
      "cell_type": "markdown",
      "metadata": {
        "id": "BZTdPe8Bjk_p"
      },
      "source": [
        "5월 지출을 2로 나누시오"
      ]
    },
    {
      "cell_type": "code",
      "metadata": {
        "id": "UGAtSnXaNpy6",
        "colab": {
          "base_uri": "https://localhost:8080/"
        },
        "outputId": "ef693bde-271e-4f55-80c3-3bd6f9866ca8"
      },
      "source": [
        "print('변경 전 :', spending)\n",
        "spending[4] /=2\n",
        "print('변경 후 :', spending)"
      ],
      "execution_count": null,
      "outputs": [
        {
          "output_type": "stream",
          "name": "stdout",
          "text": [
            "변경 전 : [25, 36, 8, 63, 24, 56]\n",
            "변경 후 : [25, 36, 8, 63, 12.0, 56]\n"
          ]
        }
      ]
    },
    {
      "cell_type": "markdown",
      "metadata": {
        "id": "6GNtA_6rE1lY"
      },
      "source": [
        "### 마이너스 인덱스\n",
        "\n",
        "<img src = 'https://github.com/teacher-jiejie/allinone_AI/blob/images/8_%EB%A6%AC%EC%8A%A4%ED%8A%B8%20%EB%A7%88%EC%9D%B4%EB%84%88%EC%8A%A4%EC%9D%B8%EB%8D%B1%EC%8A%A4.png?raw=true' width=500>"
      ]
    },
    {
      "cell_type": "code",
      "metadata": {
        "id": "VYSsCWAuMlVF",
        "colab": {
          "base_uri": "https://localhost:8080/"
        },
        "outputId": "e6b9f3f8-5490-4831-a5f6-c4142d277fd1"
      },
      "source": [
        "print(spending[5])\n",
        "print(spending[-1])\n"
      ],
      "execution_count": null,
      "outputs": [
        {
          "output_type": "stream",
          "name": "stdout",
          "text": [
            "56\n",
            "56\n"
          ]
        }
      ]
    },
    {
      "cell_type": "code",
      "metadata": {
        "id": "0Q691rtv9-bt",
        "colab": {
          "base_uri": "https://localhost:8080/"
        },
        "outputId": "3a4291b4-f0bb-4776-9d3a-1b350b2ded72"
      },
      "source": [
        "print(spending[4])\n",
        "print(spending[-2])"
      ],
      "execution_count": null,
      "outputs": [
        {
          "output_type": "stream",
          "name": "stdout",
          "text": [
            "12.0\n",
            "12.0\n"
          ]
        }
      ]
    },
    {
      "cell_type": "markdown",
      "metadata": {
        "id": "mcMUi8x-OEod"
      },
      "source": [
        "#  2.  리스트의 다양한 기능\n",
        "\n",
        "### 리스트 길이 확인 \n",
        "> len(리스트이름)           \n",
        "\n"
      ]
    },
    {
      "cell_type": "code",
      "metadata": {
        "id": "PVBaOrEONp4H",
        "colab": {
          "base_uri": "https://localhost:8080/"
        },
        "outputId": "dabbbaf7-dc97-49b3-e6f5-3d5ca26f59c7"
      },
      "source": [
        "len(spending)"
      ],
      "execution_count": null,
      "outputs": [
        {
          "output_type": "execute_result",
          "data": {
            "text/plain": [
              "6"
            ]
          },
          "metadata": {},
          "execution_count": 12
        }
      ]
    },
    {
      "cell_type": "markdown",
      "metadata": {
        "id": "E_Y7AFD0TFIB"
      },
      "source": [
        "### 리스트에 데이터 추가하기\n",
        "\n",
        "> 리스트이름.append(데이터)  \n",
        "\n",
        "\n",
        "\n",
        "```\n",
        "food = ['피자','치킨','떡볶이','스테이크','파스타']\n",
        "```\n",
        "\n",
        "\n"
      ]
    },
    {
      "cell_type": "code",
      "metadata": {
        "id": "PYw7ooYGNp65",
        "colab": {
          "base_uri": "https://localhost:8080/"
        },
        "outputId": "e5c4f5bd-214c-4031-9cb1-b34f346f62bd"
      },
      "source": [
        "food = ['피자','치킨','떡볶이','스테이크','파스타']\n",
        "# 감자칩 추가\n",
        "food.append('감자칩')\n",
        "print(food)"
      ],
      "execution_count": null,
      "outputs": [
        {
          "output_type": "stream",
          "name": "stdout",
          "text": [
            "['피자', '치킨', '떡볶이', '스테이크', '파스타', '감자칩']\n"
          ]
        }
      ]
    },
    {
      "cell_type": "code",
      "metadata": {
        "id": "I7i_vU_D-rGP",
        "colab": {
          "base_uri": "https://localhost:8080/"
        },
        "outputId": "8a507904-a9b2-4d1c-90f7-6205438b8463"
      },
      "source": [
        "# 카레 추가\n",
        "food.append('카레')\n",
        "print(food)"
      ],
      "execution_count": null,
      "outputs": [
        {
          "output_type": "stream",
          "name": "stdout",
          "text": [
            "['피자', '치킨', '떡볶이', '스테이크', '파스타', '감자칩', '카레', '카레']\n"
          ]
        }
      ]
    },
    {
      "cell_type": "markdown",
      "metadata": {
        "id": "IGU9mv18M_PG"
      },
      "source": [
        "### 빈 리스트 만들고 데이터 추가하기"
      ]
    },
    {
      "cell_type": "code",
      "metadata": {
        "id": "GYzqWARONDK-",
        "colab": {
          "base_uri": "https://localhost:8080/"
        },
        "outputId": "0ff2be18-3994-4e38-c6ea-0a9f63dffc84"
      },
      "source": [
        "# 해야할 일을 저장하는 리스트 to_do\n",
        "to_do = []\n",
        "\n",
        "to_do.append('파이썬 공부')\n",
        "print(to_do)"
      ],
      "execution_count": null,
      "outputs": [
        {
          "output_type": "stream",
          "name": "stdout",
          "text": [
            "['파이썬 공부']\n"
          ]
        }
      ]
    },
    {
      "cell_type": "code",
      "metadata": {
        "id": "StowkhzONDOz",
        "colab": {
          "base_uri": "https://localhost:8080/"
        },
        "outputId": "1dc0d893-c5d9-47ae-c207-4e4d13816cf3"
      },
      "source": [
        "# 해야할 일을 입력받아 to_do에 저장하기\n",
        "task = input('해야할 일을 입력하세요.')\n",
        "to_do.append(task)\n",
        "print(to_do)"
      ],
      "execution_count": null,
      "outputs": [
        {
          "output_type": "stream",
          "name": "stdout",
          "text": [
            "해야할 일을 입력하세요.영어 공부\n",
            "['파이썬 공부', '영어 공부']\n"
          ]
        }
      ]
    },
    {
      "cell_type": "code",
      "metadata": {
        "id": "nUvvSu-_NDsg",
        "colab": {
          "base_uri": "https://localhost:8080/"
        },
        "outputId": "80d629af-b6ee-4fbb-d5ca-03f963262210"
      },
      "source": [
        "to_do.append(input('해야할 일을 입력하세요.'))\n",
        "print(to_do)"
      ],
      "execution_count": null,
      "outputs": [
        {
          "output_type": "stream",
          "name": "stdout",
          "text": [
            "해야할 일을 입력하세요.장보기\n",
            "['파이썬 공부', '영어 공부', '장보기']\n"
          ]
        }
      ]
    },
    {
      "cell_type": "markdown",
      "metadata": {
        "id": "VcinMKvjPO_n"
      },
      "source": [
        "### 리스트 슬라이싱\n",
        "\n",
        "\n",
        "> 리스트[시작숫자 : 종료숫자]\n",
        "\n",
        "<img src = 'https://github.com/teacher-jiejie/allinone_AI/blob/images/9_%EB%A6%AC%EC%8A%A4%ED%8A%B8%EC%8A%AC%EB%9D%BC%EC%9D%B4%EC%8B%B1.png?raw=true' width=500>\n",
        "\n",
        "\n",
        "종료숫자-1 까지 잘라내는 것\n",
        "\n",
        "```\n",
        "abc[2:5]       # abc[2]~abc[4]까지 슬라이싱\n",
        "abc[4:9]       # abc[4]~abc[8]까지 슬라이싱\n",
        "```\n",
        "\n",
        "\n",
        "\n",
        "\n",
        "```\n",
        "food = ['피자','치킨','떡볶이','스테이크','파스타']\n",
        "```\n",
        "\n",
        "\n",
        "\n",
        "\n",
        "\n",
        "\n"
      ]
    },
    {
      "cell_type": "code",
      "metadata": {
        "id": "skKBPcWnO31V",
        "colab": {
          "base_uri": "https://localhost:8080/"
        },
        "outputId": "920a49c9-b6b5-44b5-b01e-371dc0fb8884"
      },
      "source": [
        "food = ['피자','치킨','떡볶이','스테이크','파스타']\n",
        "food[2:4]"
      ],
      "execution_count": null,
      "outputs": [
        {
          "output_type": "execute_result",
          "data": {
            "text/plain": [
              "['떡볶이', '스테이크']"
            ]
          },
          "metadata": {},
          "execution_count": 22
        }
      ]
    },
    {
      "cell_type": "code",
      "metadata": {
        "id": "5T90E9u2PzQl",
        "colab": {
          "base_uri": "https://localhost:8080/"
        },
        "outputId": "ca09f4d5-9417-440f-964b-4656b7074a4d"
      },
      "source": [
        "# 떡볶이, 스테이크만 골라내기\n",
        "food[0:4]"
      ],
      "execution_count": null,
      "outputs": [
        {
          "output_type": "execute_result",
          "data": {
            "text/plain": [
              "['피자', '치킨', '떡볶이', '스테이크']"
            ]
          },
          "metadata": {},
          "execution_count": 23
        }
      ]
    },
    {
      "cell_type": "code",
      "metadata": {
        "id": "u8_ZjYbVPzXv",
        "colab": {
          "base_uri": "https://localhost:8080/"
        },
        "outputId": "ab3c194c-84d6-4588-ea96-df2daa83c30f"
      },
      "source": [
        "# 처음부터 스테이크까지 골라내기\n",
        "food[:4]"
      ],
      "execution_count": null,
      "outputs": [
        {
          "output_type": "execute_result",
          "data": {
            "text/plain": [
              "['피자', '치킨', '떡볶이', '스테이크']"
            ]
          },
          "metadata": {},
          "execution_count": 25
        }
      ]
    },
    {
      "cell_type": "code",
      "metadata": {
        "id": "DGT1u07APzWH",
        "colab": {
          "base_uri": "https://localhost:8080/"
        },
        "outputId": "11b82a56-04fe-44c2-b8ae-d4f985effa29"
      },
      "source": [
        "# 뒤에서 n개 데이터 슬라이싱\n",
        "food[-2:]"
      ],
      "execution_count": null,
      "outputs": [
        {
          "output_type": "execute_result",
          "data": {
            "text/plain": [
              "['스테이크', '파스타']"
            ]
          },
          "metadata": {},
          "execution_count": 27
        }
      ]
    },
    {
      "cell_type": "markdown",
      "metadata": {
        "id": "2GzeP7MRQ1BC"
      },
      "source": [
        "### 문자열 슬라이싱"
      ]
    },
    {
      "cell_type": "code",
      "metadata": {
        "id": "trbsdMEzQ38P"
      },
      "source": [
        "date = '2021-01-25'"
      ],
      "execution_count": null,
      "outputs": []
    },
    {
      "cell_type": "code",
      "metadata": {
        "id": "uJp-ceSnQ3_b",
        "colab": {
          "base_uri": "https://localhost:8080/",
          "height": 36
        },
        "outputId": "9ba6e8d5-0b93-40b3-ca6f-f91b9e791954"
      },
      "source": [
        "date[:7]"
      ],
      "execution_count": null,
      "outputs": [
        {
          "output_type": "execute_result",
          "data": {
            "text/plain": [
              "'2021-01'"
            ],
            "application/vnd.google.colaboratory.intrinsic+json": {
              "type": "string"
            }
          },
          "metadata": {},
          "execution_count": 30
        }
      ]
    },
    {
      "cell_type": "code",
      "metadata": {
        "id": "cUQ_6ORgQ4BE",
        "colab": {
          "base_uri": "https://localhost:8080/",
          "height": 36
        },
        "outputId": "447f8da2-69d0-4306-d63a-8d7ead381cd1"
      },
      "source": [
        "date[-2:]"
      ],
      "execution_count": null,
      "outputs": [
        {
          "output_type": "execute_result",
          "data": {
            "text/plain": [
              "'25'"
            ],
            "application/vnd.google.colaboratory.intrinsic+json": {
              "type": "string"
            }
          },
          "metadata": {},
          "execution_count": 31
        }
      ]
    },
    {
      "cell_type": "code",
      "metadata": {
        "id": "y1Wh1NQqDTc2",
        "colab": {
          "base_uri": "https://localhost:8080/",
          "height": 36
        },
        "outputId": "430c3410-293b-4658-f928-62f0f4f57ea2"
      },
      "source": [
        "date[5:7]"
      ],
      "execution_count": null,
      "outputs": [
        {
          "output_type": "execute_result",
          "data": {
            "text/plain": [
              "'01'"
            ],
            "application/vnd.google.colaboratory.intrinsic+json": {
              "type": "string"
            }
          },
          "metadata": {},
          "execution_count": 32
        }
      ]
    },
    {
      "cell_type": "markdown",
      "metadata": {
        "id": "Teyp7VgNO0Rt"
      },
      "source": [
        "### split()으로 문자열 슬라이싱"
      ]
    },
    {
      "cell_type": "code",
      "metadata": {
        "id": "EsKzoWaCO4u5"
      },
      "source": [
        "date = '2021-01-25 월요일'"
      ],
      "execution_count": null,
      "outputs": []
    },
    {
      "cell_type": "code",
      "metadata": {
        "id": "a7DAbSNRO4yY",
        "colab": {
          "base_uri": "https://localhost:8080/"
        },
        "outputId": "428e6913-5dba-4a12-9cac-bcaaf9a57f52"
      },
      "source": [
        "# 공백을 기준으로 split\n",
        "date.split()"
      ],
      "execution_count": null,
      "outputs": [
        {
          "output_type": "execute_result",
          "data": {
            "text/plain": [
              "['2021-01-25', '월요일']"
            ]
          },
          "metadata": {},
          "execution_count": 34
        }
      ]
    },
    {
      "cell_type": "code",
      "metadata": {
        "id": "6hR9rP6vO41D",
        "colab": {
          "base_uri": "https://localhost:8080/"
        },
        "outputId": "456e97bc-4a55-4d4a-80e5-180d766732dc"
      },
      "source": [
        "# 0을 기준으로 split\n",
        "date.split('0')"
      ],
      "execution_count": null,
      "outputs": [
        {
          "output_type": "execute_result",
          "data": {
            "text/plain": [
              "['2', '21-', '1-25 월요일']"
            ]
          },
          "metadata": {},
          "execution_count": 36
        }
      ]
    },
    {
      "cell_type": "code",
      "metadata": {
        "id": "WLiSb170PR-a",
        "colab": {
          "base_uri": "https://localhost:8080/"
        },
        "outputId": "a6711e3b-1d78-4294-b1e3-b334e6208657"
      },
      "source": [
        "# -을 기준으로 split\n",
        "date.split('-')"
      ],
      "execution_count": null,
      "outputs": [
        {
          "output_type": "execute_result",
          "data": {
            "text/plain": [
              "['2021', '01', '25 월요일']"
            ]
          },
          "metadata": {},
          "execution_count": 37
        }
      ]
    },
    {
      "cell_type": "code",
      "metadata": {
        "id": "ydZcHgZJPSBf",
        "colab": {
          "base_uri": "https://localhost:8080/",
          "height": 36
        },
        "outputId": "363ac831-5320-4b21-edb9-bd8930d1db97"
      },
      "source": [
        "# split의 결과는 리스트이므로 인덱스 사용 가능\n",
        "date.split('-')[1]"
      ],
      "execution_count": null,
      "outputs": [
        {
          "output_type": "execute_result",
          "data": {
            "text/plain": [
              "'01'"
            ],
            "application/vnd.google.colaboratory.intrinsic+json": {
              "type": "string"
            }
          },
          "metadata": {},
          "execution_count": 39
        }
      ]
    },
    {
      "cell_type": "code",
      "metadata": {
        "id": "OsKtLXxXPjbx",
        "colab": {
          "base_uri": "https://localhost:8080/"
        },
        "outputId": "b6a76bdc-5dfa-4fa3-ff82-2c8b8980d55b"
      },
      "source": [
        "# split의 결과는 문자이므로 숫자로 변환해야 함\n",
        "int(date.split('-')[1])"
      ],
      "execution_count": null,
      "outputs": [
        {
          "output_type": "execute_result",
          "data": {
            "text/plain": [
              "1"
            ]
          },
          "metadata": {},
          "execution_count": 40
        }
      ]
    },
    {
      "cell_type": "markdown",
      "metadata": {
        "id": "ci8lL5bpkDqH"
      },
      "source": [
        "\n",
        "실습\n",
        "```\n",
        "date = '2021-01-25'\n",
        "```\n",
        "\n",
        "위 date에서 월(month)만 골라내 숫자형태로 변수 mon에 저장하시오."
      ]
    },
    {
      "cell_type": "code",
      "metadata": {
        "id": "oi4InWd-R5hK",
        "colab": {
          "base_uri": "https://localhost:8080/"
        },
        "outputId": "aa29fdb6-c7be-47e3-9b6d-abde4336e6dc"
      },
      "source": [
        "date = '2021-01-25'\n",
        "# 월만 골라내기\n",
        "mon = int(date.split('-')[1])\n",
        "print(mon)"
      ],
      "execution_count": null,
      "outputs": [
        {
          "output_type": "stream",
          "name": "stdout",
          "text": [
            "1\n"
          ]
        }
      ]
    },
    {
      "cell_type": "markdown",
      "metadata": {
        "id": "1SNURQRPkLjp"
      },
      "source": [
        "위 date에서 일(day)만 숫자 형태로 골라내 변수에 저장하시오."
      ]
    },
    {
      "cell_type": "code",
      "metadata": {
        "id": "EV6_JAjDR5lz",
        "colab": {
          "base_uri": "https://localhost:8080/"
        },
        "outputId": "5ff20f57-bb29-49a6-ff1b-0d5317535f29"
      },
      "source": [
        "date = '2021-01-25'\n",
        "# 일만 골라내기\n",
        "day = int(date.split('-')[-1])\n",
        "print(day)"
      ],
      "execution_count": null,
      "outputs": [
        {
          "output_type": "stream",
          "name": "stdout",
          "text": [
            "25\n"
          ]
        }
      ]
    },
    {
      "cell_type": "markdown",
      "metadata": {
        "id": "g9zPvPI_L77Z"
      },
      "source": [
        "# 3. 리스트와 제어구조"
      ]
    },
    {
      "cell_type": "markdown",
      "metadata": {
        "id": "rSZ692PtQhAL"
      },
      "source": [
        "### 1) for a in data 에서 data에 리스트를 넣을 때 "
      ]
    },
    {
      "cell_type": "markdown",
      "metadata": {
        "id": "FAq15VaRk9Ai"
      },
      "source": [
        "다음 spend의 모든 원소를 차례대로 출력하시오 \n",
        "\n",
        "\n",
        "```\n",
        "spend = [43, 12, 65, 67, 23, 12]\n",
        "```\n",
        "\n"
      ]
    },
    {
      "cell_type": "code",
      "metadata": {
        "id": "F2EVpvIMt4_R",
        "colab": {
          "base_uri": "https://localhost:8080/"
        },
        "outputId": "005663ac-8009-48ba-bae4-f6a62d31b683"
      },
      "source": [
        "spending = [43, 12, 65, 67, 23, 12]\n",
        "\n",
        "for s in spending :\n",
        "    print('지출은', s)"
      ],
      "execution_count": 3,
      "outputs": [
        {
          "output_type": "stream",
          "name": "stdout",
          "text": [
            "지출은 43\n",
            "지출은 12\n",
            "지출은 65\n",
            "지출은 67\n",
            "지출은 23\n",
            "지출은 12\n"
          ]
        }
      ]
    },
    {
      "cell_type": "code",
      "metadata": {
        "id": "w8oyLMGlpklS",
        "colab": {
          "base_uri": "https://localhost:8080/"
        },
        "outputId": "6fd72b6f-909a-424c-bb4b-cde47ad01df0"
      },
      "source": [
        "# 50이상 쓴 금액을 출력하시오\n",
        "for s in spending :\n",
        "    if s >= 50 :\n",
        "        print(s)"
      ],
      "execution_count": 4,
      "outputs": [
        {
          "output_type": "stream",
          "name": "stdout",
          "text": [
            "65\n",
            "67\n"
          ]
        }
      ]
    },
    {
      "cell_type": "markdown",
      "metadata": {
        "id": "qRSeABPrINGK"
      },
      "source": [
        "\n",
        "\n",
        "### 2) for a in data 에서 data에 range()를 넣을 때\n"
      ]
    },
    {
      "cell_type": "code",
      "metadata": {
        "id": "XP9lM2GHt5B0",
        "colab": {
          "base_uri": "https://localhost:8080/"
        },
        "outputId": "69cbe603-62c6-48ab-c9dd-0d7e0a0b71f2"
      },
      "source": [
        "# 인덱스를 활용하고 싶을 때 range()\n",
        "for i in range(0, 6) : \n",
        "    print(i, '월 지출은', spending[i])"
      ],
      "execution_count": 10,
      "outputs": [
        {
          "output_type": "stream",
          "name": "stdout",
          "text": [
            "0 월 지출은 43\n",
            "1 월 지출은 12\n",
            "2 월 지출은 65\n",
            "3 월 지출은 67\n",
            "4 월 지출은 23\n",
            "5 월 지출은 12\n"
          ]
        }
      ]
    },
    {
      "cell_type": "code",
      "metadata": {
        "id": "draOPFNGIkAr",
        "colab": {
          "base_uri": "https://localhost:8080/"
        },
        "outputId": "bbb3bd81-06d2-41c4-846c-2c2f49f915e1"
      },
      "source": [
        "# 인덱스는 0부터 시작\n",
        "# 인덱스를 활용하고 싶을 때 range()\n",
        "for i in range(0, 6) : \n",
        "    print(i+1, '월 지출은', spending[i])"
      ],
      "execution_count": 11,
      "outputs": [
        {
          "output_type": "stream",
          "name": "stdout",
          "text": [
            "1 월 지출은 43\n",
            "2 월 지출은 12\n",
            "3 월 지출은 65\n",
            "4 월 지출은 67\n",
            "5 월 지출은 23\n",
            "6 월 지출은 12\n"
          ]
        }
      ]
    },
    {
      "cell_type": "code",
      "metadata": {
        "id": "dx99LE7Xt5EO",
        "colab": {
          "base_uri": "https://localhost:8080/"
        },
        "outputId": "90188b0a-c14c-4778-f402-51f66502c55b"
      },
      "source": [
        "# len() 활용하기\n",
        "for i in range(0, len(spending)) : \n",
        "    print(i+1, '월 지출은', spending[i])"
      ],
      "execution_count": 12,
      "outputs": [
        {
          "output_type": "stream",
          "name": "stdout",
          "text": [
            "1 월 지출은 43\n",
            "2 월 지출은 12\n",
            "3 월 지출은 65\n",
            "4 월 지출은 67\n",
            "5 월 지출은 23\n",
            "6 월 지출은 12\n"
          ]
        }
      ]
    },
    {
      "cell_type": "code",
      "metadata": {
        "id": "YBNqt2c-t5Gk",
        "colab": {
          "base_uri": "https://localhost:8080/"
        },
        "outputId": "b4fa893b-8482-4ed2-8b57-c104fa7ed03f"
      },
      "source": [
        "# range()가 0부터 시작하면 생략 가능\n",
        "for i in range(len(spending)) : \n",
        "    print(i+1, '월 지출은', spending[i])"
      ],
      "execution_count": 13,
      "outputs": [
        {
          "output_type": "stream",
          "name": "stdout",
          "text": [
            "1 월 지출은 43\n",
            "2 월 지출은 12\n",
            "3 월 지출은 65\n",
            "4 월 지출은 67\n",
            "5 월 지출은 23\n",
            "6 월 지출은 12\n"
          ]
        }
      ]
    },
    {
      "cell_type": "markdown",
      "metadata": {
        "id": "Mliij-AiZr4_"
      },
      "source": [
        "# 4. 이차원 리스트\n",
        "\n",
        "<img src ='https://github.com/teacher-jiejie/allinone_AI/blob/images/14_%EC%9D%B4%EC%B0%A8%EC%9B%90%20%EB%A6%AC%EC%8A%A4%ED%8A%B8.png?raw=true' width = 700>"
      ]
    },
    {
      "cell_type": "code",
      "metadata": {
        "id": "4acOxb9Dul8O",
        "colab": {
          "base_uri": "https://localhost:8080/"
        },
        "outputId": "21599bb8-edb8-4eaa-9cdf-d3f119ccfabc"
      },
      "source": [
        "abc = [[1, 2, 3], [4, 5, 6], [7, 8, 9]]\n",
        "print(abc)"
      ],
      "execution_count": 14,
      "outputs": [
        {
          "output_type": "stream",
          "name": "stdout",
          "text": [
            "[[1, 2, 3], [4, 5, 6], [7, 8, 9]]\n"
          ]
        }
      ]
    },
    {
      "cell_type": "code",
      "metadata": {
        "id": "BQ0u3IM-yUd_",
        "colab": {
          "base_uri": "https://localhost:8080/"
        },
        "outputId": "12a94316-6e30-4b2a-fbd9-a4eadcf8f989"
      },
      "source": [
        "print(abc[0])"
      ],
      "execution_count": 15,
      "outputs": [
        {
          "output_type": "stream",
          "name": "stdout",
          "text": [
            "[1, 2, 3]\n"
          ]
        }
      ]
    },
    {
      "cell_type": "code",
      "metadata": {
        "id": "gyt8s3mtpiTF",
        "colab": {
          "base_uri": "https://localhost:8080/"
        },
        "outputId": "3189ffd7-c60a-493f-b14d-1b372cf1405a"
      },
      "source": [
        "print(abc[1])"
      ],
      "execution_count": 16,
      "outputs": [
        {
          "output_type": "stream",
          "name": "stdout",
          "text": [
            "[4, 5, 6]\n"
          ]
        }
      ]
    },
    {
      "cell_type": "code",
      "metadata": {
        "id": "smaYOq_bpiY8",
        "colab": {
          "base_uri": "https://localhost:8080/"
        },
        "outputId": "a9600392-b343-4d5d-9743-9b598dbdb151"
      },
      "source": [
        "print(abc[-1])"
      ],
      "execution_count": 17,
      "outputs": [
        {
          "output_type": "stream",
          "name": "stdout",
          "text": [
            "[7, 8, 9]\n"
          ]
        }
      ]
    },
    {
      "cell_type": "markdown",
      "metadata": {
        "id": "IROs-Ha0yUj2"
      },
      "source": [
        "## 이차원 리스트의 인덱스\n",
        "\n",
        "<img src = 'https://github.com/teacher-jiejie/allinone_AI/blob/images/15_%EC%9D%B4%EC%B0%A8%EC%9B%90%20%EB%A6%AC%EC%8A%A4%ED%8A%B8%20%EC%9D%B8%EB%8D%B1%EC%8A%A4.png?raw=true' width = 700>"
      ]
    },
    {
      "cell_type": "code",
      "metadata": {
        "id": "1U_e8JPXul-I",
        "colab": {
          "base_uri": "https://localhost:8080/"
        },
        "outputId": "186e9405-299a-40cb-c68c-7c6784878239"
      },
      "source": [
        "# 1 출력하기\n",
        "print(abc[0][0])"
      ],
      "execution_count": 18,
      "outputs": [
        {
          "output_type": "stream",
          "name": "stdout",
          "text": [
            "1\n"
          ]
        }
      ]
    },
    {
      "cell_type": "markdown",
      "metadata": {
        "id": "-bcfTuieldf0"
      },
      "source": [
        "이차원 리스트 abc에서 인덱스를 활용해 다음 숫자를 출력하시오"
      ]
    },
    {
      "cell_type": "code",
      "metadata": {
        "id": "lhEJ64vTumAI",
        "colab": {
          "base_uri": "https://localhost:8080/"
        },
        "outputId": "9a5db42f-48f9-476c-8ffe-768d20d07308"
      },
      "source": [
        "# 6 출력하기\n",
        "print(abc[1][-1])"
      ],
      "execution_count": 20,
      "outputs": [
        {
          "output_type": "stream",
          "name": "stdout",
          "text": [
            "6\n"
          ]
        }
      ]
    },
    {
      "cell_type": "code",
      "metadata": {
        "id": "8dolImUrumCS",
        "colab": {
          "base_uri": "https://localhost:8080/"
        },
        "outputId": "dd98a200-3808-4a31-94e3-c868a4ae76f7"
      },
      "source": [
        "# 8 출력하기\n",
        "print(abc[2][1])"
      ],
      "execution_count": 21,
      "outputs": [
        {
          "output_type": "stream",
          "name": "stdout",
          "text": [
            "8\n"
          ]
        }
      ]
    },
    {
      "cell_type": "markdown",
      "metadata": {
        "id": "2YUUytTsftU5"
      },
      "source": [
        "## 반복문과 이차원 리스트"
      ]
    },
    {
      "cell_type": "code",
      "metadata": {
        "id": "vIwkSkIuyYwV",
        "colab": {
          "base_uri": "https://localhost:8080/"
        },
        "outputId": "2d616879-bdf8-4673-c5a4-a0939d21e119"
      },
      "source": [
        "for row in abc :\n",
        "    print(row)"
      ],
      "execution_count": 23,
      "outputs": [
        {
          "output_type": "stream",
          "name": "stdout",
          "text": [
            "[1, 2, 3]\n",
            "[4, 5, 6]\n",
            "[7, 8, 9]\n"
          ]
        }
      ]
    },
    {
      "cell_type": "markdown",
      "metadata": {
        "id": "-bbMjsKVyY4B"
      },
      "source": [
        "> 이차원리스트 반복 원리\n",
        "\n",
        "<img src = 'https://github.com/teacher-jiejie/allinone_AI/blob/images/16_%EC%9D%B4%EC%B0%A8%EC%9B%90%20%EB%A6%AC%EC%8A%A4%ED%8A%B8%20%EB%B0%98%EB%B3%B5%EA%B5%AC%EC%A1%B0.png?raw=true' width=800>"
      ]
    },
    {
      "cell_type": "code",
      "metadata": {
        "id": "t4LqJgCdyh03",
        "colab": {
          "base_uri": "https://localhost:8080/"
        },
        "outputId": "01431e93-96b6-47cd-c446-d09a47edfb37"
      },
      "source": [
        "# 모든 줄의 첫번째 데이터만 출력\n",
        "for row in abc :\n",
        "    print(row[0])"
      ],
      "execution_count": 25,
      "outputs": [
        {
          "output_type": "stream",
          "name": "stdout",
          "text": [
            "1\n",
            "4\n",
            "7\n"
          ]
        }
      ]
    },
    {
      "cell_type": "code",
      "metadata": {
        "id": "N3J7nAOrrTWs",
        "colab": {
          "base_uri": "https://localhost:8080/"
        },
        "outputId": "842f3ffe-67b6-4f29-c378-2ed49fbf0aed"
      },
      "source": [
        "# 모든 줄의 마지막 데이터(세번째 열)만 출력\n",
        "for row in abc :\n",
        "    print(row[-1])"
      ],
      "execution_count": 26,
      "outputs": [
        {
          "output_type": "stream",
          "name": "stdout",
          "text": [
            "3\n",
            "6\n",
            "9\n"
          ]
        }
      ]
    },
    {
      "cell_type": "markdown",
      "metadata": {
        "id": "gKl6ITBVf4dN"
      },
      "source": [
        "# 5. 올림픽 데이터 "
      ]
    },
    {
      "cell_type": "markdown",
      "metadata": {
        "id": "bIBp6iFLMfqY"
      },
      "source": [
        "<img src= 'https://github.com/teacher-jiejie/allinone_AI/blob/images/17_%EC%98%AC%EB%A6%BC%ED%94%BD.png?raw=true' width=500>"
      ]
    },
    {
      "cell_type": "markdown",
      "metadata": {
        "id": "XEF7EOlBLJUl"
      },
      "source": [
        "\n",
        "\n",
        "```\n",
        "data =[\n",
        "       [1,'미국',46,37,38,121],\n",
        "       [2,'영국',27,23,17,67],\n",
        "       [3,'중국',26,18,26,70],\n",
        "       [4,'러시아',19,18,19,56],\n",
        "       [5,'독일',17,10,15,42],\n",
        "       [6,'일본',12,8,21,41],\n",
        "       [7,'프랑스',10,18,14,42],\n",
        "       [8,'대한민국',9,3,9,21] \n",
        "       ]\n",
        "```\n",
        "\n"
      ]
    },
    {
      "cell_type": "code",
      "metadata": {
        "id": "0VrPyd2vMfqZ"
      },
      "source": [
        "data =[\n",
        "       [1,'미국',46,37,38,121],\n",
        "       [2,'영국',27,23,17,67],\n",
        "       [3,'중국',26,18,26,70],\n",
        "       [4,'러시아',19,18,19,56],\n",
        "       [5,'독일',17,10,15,42],\n",
        "       [6,'일본',12,8,21,41],\n",
        "       [7,'프랑스',10,18,14,42],\n",
        "       [8,'대한민국',9,3,9,21] \n",
        "       ]"
      ],
      "execution_count": 28,
      "outputs": []
    },
    {
      "cell_type": "code",
      "metadata": {
        "id": "G7IrajJ1Mfqa",
        "colab": {
          "base_uri": "https://localhost:8080/"
        },
        "outputId": "f3a4a020-0c82-4d90-da0f-818dffa639c8"
      },
      "source": [
        "# 순위권에 든 모든 국가를 출력하시오\n",
        "for row in data :\n",
        "    print(row[1])"
      ],
      "execution_count": 30,
      "outputs": [
        {
          "output_type": "stream",
          "name": "stdout",
          "text": [
            "미국\n",
            "영국\n",
            "중국\n",
            "러시아\n",
            "독일\n",
            "일본\n",
            "프랑스\n",
            "대한민국\n"
          ]
        }
      ]
    },
    {
      "cell_type": "code",
      "metadata": {
        "id": "Eu7RUnssMfqb",
        "colab": {
          "base_uri": "https://localhost:8080/"
        },
        "outputId": "01c1cc4f-386a-4dde-80a8-730801fa86bc"
      },
      "source": [
        "# 금메달보다 은메달 개수가 많은 나라를 출력하시오\n",
        "for row in data :\n",
        "    if row[2] < row[3] :\n",
        "        print(row[1], '금메달-',row[2], '은메달-',row[3])"
      ],
      "execution_count": 32,
      "outputs": [
        {
          "output_type": "stream",
          "name": "stdout",
          "text": [
            "프랑스 금메달- 10 은메달- 18\n"
          ]
        }
      ]
    },
    {
      "cell_type": "code",
      "metadata": {
        "id": "1EbMZLoZMfqc",
        "colab": {
          "base_uri": "https://localhost:8080/"
        },
        "outputId": "7848147d-4a8c-4e55-ab7d-60ad1a742e92"
      },
      "source": [
        "# 금메달보다 동메달 개수가 많은 나라를 출력하시오\n",
        "for row in data :\n",
        "    if row[2] < row[4] :\n",
        "        print(row[1], '금메달-',row[2], '동메달-',row[4])"
      ],
      "execution_count": 34,
      "outputs": [
        {
          "output_type": "stream",
          "name": "stdout",
          "text": [
            "일본 금메달- 12 동메달- 21\n",
            "프랑스 금메달- 10 동메달- 14\n"
          ]
        }
      ]
    },
    {
      "cell_type": "code",
      "metadata": {
        "id": "LtY4aNsQMfqd",
        "colab": {
          "base_uri": "https://localhost:8080/"
        },
        "outputId": "820e5866-f67f-4bff-c7f0-83aeb39c01c5"
      },
      "source": [
        "# 모든 나라의 금메달 합을 구하시오\n",
        "gold = 0\n",
        "\n",
        "for row in data :\n",
        "    gold += row[2]\n",
        "\n",
        "print('총 금메달의 합은?', gold)"
      ],
      "execution_count": 41,
      "outputs": [
        {
          "output_type": "stream",
          "name": "stdout",
          "text": [
            "총 금메달의 합은? 166\n"
          ]
        }
      ]
    },
    {
      "cell_type": "code",
      "metadata": {
        "id": "S07712BhMfqd"
      },
      "source": [],
      "execution_count": null,
      "outputs": []
    }
  ]
}