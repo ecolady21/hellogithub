{
  "nbformat": 4,
  "nbformat_minor": 0,
  "metadata": {
    "colab": {
      "provenance": [],
      "include_colab_link": true
    },
    "kernelspec": {
      "name": "python3",
      "display_name": "Python 3"
    }
  },
  "cells": [
    {
      "cell_type": "markdown",
      "metadata": {
        "id": "view-in-github",
        "colab_type": "text"
      },
      "source": [
        "<a href=\"https://colab.research.google.com/github/ecolady21/hellogithub/blob/main/2%EC%9E%A5_(%EC%8B%A4%EC%8A%B5%EC%9A%A9)_%EC%9E%85%EC%B6%9C%EB%A0%A5.ipynb\" target=\"_parent\"><img src=\"https://colab.research.google.com/assets/colab-badge.svg\" alt=\"Open In Colab\"/></a>"
      ]
    },
    {
      "cell_type": "markdown",
      "metadata": {
        "id": "6VICvDDuPykk"
      },
      "source": [
        "\n",
        "# 1. 파이썬 명령어 형식\n",
        "<img src='https://github.com/teacher-jiejie/allinone_AI/blob/images/0_%EB%AA%85%EB%A0%B9%EC%96%B4.png?raw=true' width=400>"
      ]
    },
    {
      "cell_type": "markdown",
      "metadata": {
        "id": "LJAHyqRXU_tN"
      },
      "source": [
        "# 2. 출력명령어 \n",
        "### 출력 명령어 형식\n",
        "\n",
        "\n",
        "> print( 출력할 내용 )\n",
        "\n",
        "\n"
      ]
    },
    {
      "cell_type": "code",
      "metadata": {
        "id": "fHog4iYYL-q4",
        "colab": {
          "base_uri": "https://localhost:8080/"
        },
        "outputId": "a8c7e4b7-10e8-4a2a-e0ee-53afed3272f4"
      },
      "source": [
        "print(1030)"
      ],
      "execution_count": 1,
      "outputs": [
        {
          "output_type": "stream",
          "name": "stdout",
          "text": [
            "1030\n"
          ]
        }
      ]
    },
    {
      "cell_type": "code",
      "metadata": {
        "id": "-Mn2gKC1y2XL",
        "colab": {
          "base_uri": "https://localhost:8080/",
          "height": 131
        },
        "outputId": "26d7cd0b-f647-4cf4-dd0f-b682f085286c"
      },
      "source": [
        "print(10월 30일)"
      ],
      "execution_count": 2,
      "outputs": [
        {
          "output_type": "error",
          "ename": "SyntaxError",
          "evalue": "ignored",
          "traceback": [
            "\u001b[0;36m  File \u001b[0;32m\"<ipython-input-2-46443578dfa7>\"\u001b[0;36m, line \u001b[0;32m1\u001b[0m\n\u001b[0;31m    print(10월 30일)\u001b[0m\n\u001b[0m           ^\u001b[0m\n\u001b[0;31mSyntaxError\u001b[0m\u001b[0;31m:\u001b[0m invalid decimal literal\n"
          ]
        }
      ]
    },
    {
      "cell_type": "markdown",
      "metadata": {
        "id": "KqFYkVtu_foZ"
      },
      "source": [
        "### 문자는 따옴표로 감싸주어야 함\n",
        "> print('문자')"
      ]
    },
    {
      "cell_type": "code",
      "metadata": {
        "id": "HndD3I4ybonQ",
        "colab": {
          "base_uri": "https://localhost:8080/"
        },
        "outputId": "b9dfab36-18cc-4dbc-ddcb-818d116b4631"
      },
      "source": [
        "print('10월 30일')"
      ],
      "execution_count": 3,
      "outputs": [
        {
          "output_type": "stream",
          "name": "stdout",
          "text": [
            "10월 30일\n"
          ]
        }
      ]
    },
    {
      "cell_type": "code",
      "metadata": {
        "id": "GXO9r4k0_M42",
        "colab": {
          "base_uri": "https://localhost:8080/"
        },
        "outputId": "5ec4a51c-a90d-4ce6-e22b-529fff40003c"
      },
      "source": [
        "print('렛츠기릿파이썬')"
      ],
      "execution_count": 4,
      "outputs": [
        {
          "output_type": "stream",
          "name": "stdout",
          "text": [
            "렛츠기릿파이썬\n"
          ]
        }
      ]
    },
    {
      "cell_type": "code",
      "metadata": {
        "id": "_eXE0Zei_TnT"
      },
      "source": [
        "# 주석"
      ],
      "execution_count": null,
      "outputs": []
    },
    {
      "cell_type": "code",
      "metadata": {
        "id": "RqdNnVh2bopV",
        "colab": {
          "base_uri": "https://localhost:8080/"
        },
        "outputId": "9443b028-e5ab-458d-8246-7aea3a9bc1db"
      },
      "source": [
        "# 연산하여 출력하기\n",
        "print(12+34)\n",
        "print(12-34)\n",
        "print(12*34)\n",
        "print(12/34)"
      ],
      "execution_count": 7,
      "outputs": [
        {
          "output_type": "stream",
          "name": "stdout",
          "text": [
            "46\n",
            "-22\n",
            "408\n",
            "0.35294117647058826\n"
          ]
        }
      ]
    },
    {
      "cell_type": "code",
      "metadata": {
        "id": "h2t7k_yh-IMC",
        "colab": {
          "base_uri": "https://localhost:8080/"
        },
        "outputId": "120d0813-eb43-4fb8-d6cc-f5f1ad2ac883"
      },
      "source": [
        "# 숫자라 하더라도 따옴표로 감싸면 문자로 인식\n",
        "print('12+34')\n",
        "print('12-34')\n",
        "print('12*34')\n",
        "print('12/34')"
      ],
      "execution_count": 8,
      "outputs": [
        {
          "output_type": "stream",
          "name": "stdout",
          "text": [
            "12+34\n",
            "12-34\n",
            "12*34\n",
            "12/34\n"
          ]
        }
      ]
    },
    {
      "cell_type": "code",
      "metadata": {
        "id": "osxJgfZU_b3y",
        "colab": {
          "base_uri": "https://localhost:8080/"
        },
        "outputId": "b731dd33-e175-46c4-cb47-ec57ae71d924"
      },
      "source": [
        "# ** 제곱\n",
        "print(5**2)\n",
        "\n",
        "# 몫\n",
        "print(5//2)\n",
        "\n",
        "# 나머지\n",
        "print(5%2)\n"
      ],
      "execution_count": 11,
      "outputs": [
        {
          "output_type": "stream",
          "name": "stdout",
          "text": [
            "25\n",
            "2\n",
            "1\n"
          ]
        }
      ]
    },
    {
      "cell_type": "markdown",
      "metadata": {
        "id": "OEQFUbNCA9fm"
      },
      "source": [
        "### 연결하여 출력하기 \n",
        "> print(  ,  )\n",
        "<br/>\n",
        "> print(  +  )"
      ]
    },
    {
      "cell_type": "code",
      "metadata": {
        "id": "O0URZFHFAFfE",
        "colab": {
          "base_uri": "https://localhost:8080/"
        },
        "outputId": "70fdca9d-1357-406d-920b-440c70430fbf"
      },
      "source": [
        "# 콤마, 로 연결하여 출력하기\n",
        "print('파이썬', '안녕!')"
      ],
      "execution_count": 12,
      "outputs": [
        {
          "output_type": "stream",
          "name": "stdout",
          "text": [
            "파이썬 안녕!\n"
          ]
        }
      ]
    },
    {
      "cell_type": "code",
      "metadata": {
        "id": "QEjssp5gAU2N",
        "colab": {
          "base_uri": "https://localhost:8080/"
        },
        "outputId": "f68c02b2-fca3-4dec-a6dc-a8b151099ec1"
      },
      "source": [
        "# 더하기 +로 연결하여 출력하기\n",
        "print('파이썬' + '안녕!')"
      ],
      "execution_count": 13,
      "outputs": [
        {
          "output_type": "stream",
          "name": "stdout",
          "text": [
            "파이썬안녕!\n"
          ]
        }
      ]
    },
    {
      "cell_type": "code",
      "metadata": {
        "id": "BXvFmqhtAzy1",
        "colab": {
          "base_uri": "https://localhost:8080/"
        },
        "outputId": "5b46d3a7-f2a0-471f-a019-112ded45d6c5"
      },
      "source": [
        "print('파이썬', 12*34)"
      ],
      "execution_count": 14,
      "outputs": [
        {
          "output_type": "stream",
          "name": "stdout",
          "text": [
            "파이썬 408\n"
          ]
        }
      ]
    },
    {
      "cell_type": "code",
      "metadata": {
        "id": "Pme3T740B8JM",
        "colab": {
          "base_uri": "https://localhost:8080/",
          "height": 166
        },
        "outputId": "5818aca5-9e68-4dd4-cca2-11855f9aab3d"
      },
      "source": [
        "print('파이썬' + 12*34)"
      ],
      "execution_count": 15,
      "outputs": [
        {
          "output_type": "error",
          "ename": "TypeError",
          "evalue": "ignored",
          "traceback": [
            "\u001b[0;31m---------------------------------------------------------------------------\u001b[0m",
            "\u001b[0;31mTypeError\u001b[0m                                 Traceback (most recent call last)",
            "\u001b[0;32m<ipython-input-15-7a3e3089103d>\u001b[0m in \u001b[0;36m<cell line: 1>\u001b[0;34m()\u001b[0m\n\u001b[0;32m----> 1\u001b[0;31m \u001b[0mprint\u001b[0m\u001b[0;34m(\u001b[0m\u001b[0;34m'파이썬'\u001b[0m \u001b[0;34m+\u001b[0m \u001b[0;36m12\u001b[0m\u001b[0;34m*\u001b[0m\u001b[0;36m34\u001b[0m\u001b[0;34m)\u001b[0m\u001b[0;34m\u001b[0m\u001b[0;34m\u001b[0m\u001b[0m\n\u001b[0m",
            "\u001b[0;31mTypeError\u001b[0m: can only concatenate str (not \"int\") to str"
          ]
        }
      ]
    },
    {
      "cell_type": "markdown",
      "metadata": {
        "id": "Y5VKN8McEun1"
      },
      "source": [
        "실습 1. 본인 이름, 관심분야를 한 줄로 출력해보기 "
      ]
    },
    {
      "cell_type": "code",
      "metadata": {
        "id": "tZAX0aBQEtsJ",
        "colab": {
          "base_uri": "https://localhost:8080/"
        },
        "outputId": "b3158c70-0aac-4bbd-fc2a-84449d30ca04"
      },
      "source": [
        "print('김나영' , '파이썬')"
      ],
      "execution_count": 17,
      "outputs": [
        {
          "output_type": "stream",
          "name": "stdout",
          "text": [
            "김나영 파이썬\n"
          ]
        }
      ]
    },
    {
      "cell_type": "markdown",
      "metadata": {
        "id": "zNlNwOErClxr"
      },
      "source": [
        "# 3. 입력명령어\n",
        "### 입력명령어 형식\n",
        "> input('입력안내문')"
      ]
    },
    {
      "cell_type": "code",
      "metadata": {
        "id": "P35K2YD_B_fJ",
        "colab": {
          "base_uri": "https://localhost:8080/",
          "height": 52
        },
        "outputId": "95154a21-0b40-4124-bd72-364bde6cc5bc"
      },
      "source": [
        "input()"
      ],
      "execution_count": 18,
      "outputs": [
        {
          "name": "stdout",
          "output_type": "stream",
          "text": [
            "123123\n"
          ]
        },
        {
          "output_type": "execute_result",
          "data": {
            "text/plain": [
              "'123123'"
            ],
            "application/vnd.google.colaboratory.intrinsic+json": {
              "type": "string"
            }
          },
          "metadata": {},
          "execution_count": 18
        }
      ]
    },
    {
      "cell_type": "code",
      "metadata": {
        "id": "g-WfHArdGA8b",
        "colab": {
          "base_uri": "https://localhost:8080/",
          "height": 52
        },
        "outputId": "9fc0e6ed-b8df-4637-fc70-b82f8fb1234e"
      },
      "source": [
        "input('생일 :  ')"
      ],
      "execution_count": 19,
      "outputs": [
        {
          "name": "stdout",
          "output_type": "stream",
          "text": [
            "생일 : 11월 18일\n"
          ]
        },
        {
          "output_type": "execute_result",
          "data": {
            "text/plain": [
              "'11월 18일'"
            ],
            "application/vnd.google.colaboratory.intrinsic+json": {
              "type": "string"
            }
          },
          "metadata": {},
          "execution_count": 19
        }
      ]
    },
    {
      "cell_type": "code",
      "metadata": {
        "id": "WmWrf3RZGMq1",
        "colab": {
          "base_uri": "https://localhost:8080/",
          "height": 52
        },
        "outputId": "62c6fb8b-75bf-45a5-d0be-e3a61fd2988c"
      },
      "source": [
        "input('아이디 : ')"
      ],
      "execution_count": 20,
      "outputs": [
        {
          "name": "stdout",
          "output_type": "stream",
          "text": [
            "아이디 : ecolady21\n"
          ]
        },
        {
          "output_type": "execute_result",
          "data": {
            "text/plain": [
              "'ecolady21'"
            ],
            "application/vnd.google.colaboratory.intrinsic+json": {
              "type": "string"
            }
          },
          "metadata": {},
          "execution_count": 20
        }
      ]
    },
    {
      "cell_type": "code",
      "metadata": {
        "id": "dlc34WbEGQLy",
        "colab": {
          "base_uri": "https://localhost:8080/",
          "height": 70
        },
        "outputId": "29d9adf6-d7c0-4ef0-bd8f-ea36d20af6b4"
      },
      "source": [
        "input('아이디 :')\n",
        "input('비밀번호 :')"
      ],
      "execution_count": 21,
      "outputs": [
        {
          "name": "stdout",
          "output_type": "stream",
          "text": [
            "아이디 : ecolady21\n",
            "비밀번호 :1234\n"
          ]
        },
        {
          "output_type": "execute_result",
          "data": {
            "text/plain": [
              "'1234'"
            ],
            "application/vnd.google.colaboratory.intrinsic+json": {
              "type": "string"
            }
          },
          "metadata": {},
          "execution_count": 21
        }
      ]
    },
    {
      "cell_type": "markdown",
      "metadata": {
        "id": "5TblMxseGyGG"
      },
      "source": [
        "### 순차구조 \n",
        "\n",
        "<img src='https://github.com/teacher-jiejie/allinone_AI/blob/images/66_%E1%84%89%E1%85%AE%E1%86%AB%E1%84%8E%E1%85%A1%E1%84%80%E1%85%AE%E1%84%8C%E1%85%A9.png?raw=true' width=600>"
      ]
    },
    {
      "cell_type": "code",
      "metadata": {
        "id": "CfX6PoPdGX4T",
        "colab": {
          "base_uri": "https://localhost:8080/"
        },
        "outputId": "8f87d868-117d-4562-b68a-13695378fe4c"
      },
      "source": [
        "print('---000웹사이트 회원가입---')\n",
        "input('아이디 : ')\n",
        "print('000 웹사이트 가입을 환영합니다!')"
      ],
      "execution_count": 22,
      "outputs": [
        {
          "output_type": "stream",
          "name": "stdout",
          "text": [
            "---000웹사이트 회원가입---\n",
            "아이디 : ecolady12\n",
            "000 웹사이트 가입을 환영합니다!\n"
          ]
        }
      ]
    },
    {
      "cell_type": "code",
      "metadata": {
        "id": "3bE5MP4lIutc",
        "colab": {
          "base_uri": "https://localhost:8080/"
        },
        "outputId": "faa23c7e-f85b-49f6-af62-f04807735f82"
      },
      "source": [
        "print('---000웹사이트 회원가입---')\n",
        "print(input('아이디 :') + '웹사이트 가입을 환영합니다!')"
      ],
      "execution_count": 26,
      "outputs": [
        {
          "output_type": "stream",
          "name": "stdout",
          "text": [
            "---000웹사이트 회원가입---\n",
            "아이디 :ecolady21\n",
            "ecolady21웹사이트 가입을 환영합니다!\n"
          ]
        }
      ]
    },
    {
      "cell_type": "code",
      "source": [],
      "metadata": {
        "id": "NhmzSsDanrlY"
      },
      "execution_count": null,
      "outputs": []
    }
  ]
}