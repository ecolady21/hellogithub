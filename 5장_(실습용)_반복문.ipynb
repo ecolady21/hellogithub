{
  "nbformat": 4,
  "nbformat_minor": 0,
  "metadata": {
    "colab": {
      "provenance": [],
      "include_colab_link": true
    },
    "kernelspec": {
      "name": "python3",
      "display_name": "Python 3"
    }
  },
  "cells": [
    {
      "cell_type": "markdown",
      "metadata": {
        "id": "view-in-github",
        "colab_type": "text"
      },
      "source": [
        "<a href=\"https://colab.research.google.com/github/ecolady21/hellogithub/blob/main/5%EC%9E%A5_(%EC%8B%A4%EC%8A%B5%EC%9A%A9)_%EB%B0%98%EB%B3%B5%EB%AC%B8.ipynb\" target=\"_parent\"><img src=\"https://colab.research.google.com/assets/colab-badge.svg\" alt=\"Open In Colab\"/></a>"
      ]
    },
    {
      "cell_type": "markdown",
      "metadata": {
        "id": "UCdFsLZvKa_C"
      },
      "source": [
        "# 1. 반복문\n",
        "<img src = 'https://github.com/teacher-jiejie/allinone_AI/blob/images/4_%EB%B0%98%EB%B3%B5%EB%AC%B8.png?raw=true' width=500>\n",
        "\n"
      ]
    },
    {
      "cell_type": "code",
      "metadata": {
        "id": "HyLrFLZQt46j",
        "colab": {
          "base_uri": "https://localhost:8080/"
        },
        "outputId": "da5d8ca0-f896-4315-baf4-f351c8476eb5"
      },
      "source": [
        "for a in [1, 2, 3, 4, 5] :\n",
        "    print('안녕하세요!')"
      ],
      "execution_count": 1,
      "outputs": [
        {
          "output_type": "stream",
          "name": "stdout",
          "text": [
            "안녕하세요!\n",
            "안녕하세요!\n",
            "안녕하세요!\n",
            "안녕하세요!\n",
            "안녕하세요!\n"
          ]
        }
      ]
    },
    {
      "cell_type": "code",
      "metadata": {
        "id": "IQtiqCfit48u",
        "colab": {
          "base_uri": "https://localhost:8080/"
        },
        "outputId": "172ddaf5-5ff9-44c7-f943-b79fbc7bfdf4"
      },
      "source": [
        "for a in [1, 2, 3, 4, 5] :\n",
        "    print(a, '안녕하세요!')"
      ],
      "execution_count": 2,
      "outputs": [
        {
          "output_type": "stream",
          "name": "stdout",
          "text": [
            "1 안녕하세요!\n",
            "2 안녕하세요!\n",
            "3 안녕하세요!\n",
            "4 안녕하세요!\n",
            "5 안녕하세요!\n"
          ]
        }
      ]
    },
    {
      "cell_type": "markdown",
      "metadata": {
        "id": "oEfcTfzDFlqS"
      },
      "source": [
        "<img src ='https://github.com/teacher-jiejie/allinone_AI/blob/images/5_%EB%B0%98%EB%B3%B5%EB%AC%B8%20%EB%8F%99%EC%9E%91%EA%B5%AC%EC%A1%B0.png?raw=true' width=500>"
      ]
    },
    {
      "cell_type": "code",
      "source": [
        "for a in [100, 99, 98, 97, 96] :\n",
        "    print(a)"
      ],
      "metadata": {
        "colab": {
          "base_uri": "https://localhost:8080/"
        },
        "id": "xfJ0bh8xLRAi",
        "outputId": "3b4d4dd2-62ff-462c-eb94-9374169e89bb"
      },
      "execution_count": 3,
      "outputs": [
        {
          "output_type": "stream",
          "name": "stdout",
          "text": [
            "100\n",
            "99\n",
            "98\n",
            "97\n",
            "96\n"
          ]
        }
      ]
    },
    {
      "cell_type": "markdown",
      "metadata": {
        "id": "wKvrSc-qou3A"
      },
      "source": [
        "# 2. range(시작숫자, 종료숫자)"
      ]
    },
    {
      "cell_type": "code",
      "metadata": {
        "id": "v5KMYQfk0ZVn",
        "colab": {
          "base_uri": "https://localhost:8080/"
        },
        "outputId": "02eaeda8-6706-4c2a-df61-918d9d5bf1f3"
      },
      "source": [
        "for a in range(1, 10) :\n",
        "    print(a, '선생님, 다시는 청소를 빼먹지 않겠습니다.')"
      ],
      "execution_count": 4,
      "outputs": [
        {
          "output_type": "stream",
          "name": "stdout",
          "text": [
            "1 선생님, 다시는 청소를 빼먹지 않겠습니다.\n",
            "2 선생님, 다시는 청소를 빼먹지 않겠습니다.\n",
            "3 선생님, 다시는 청소를 빼먹지 않겠습니다.\n",
            "4 선생님, 다시는 청소를 빼먹지 않겠습니다.\n",
            "5 선생님, 다시는 청소를 빼먹지 않겠습니다.\n",
            "6 선생님, 다시는 청소를 빼먹지 않겠습니다.\n",
            "7 선생님, 다시는 청소를 빼먹지 않겠습니다.\n",
            "8 선생님, 다시는 청소를 빼먹지 않겠습니다.\n",
            "9 선생님, 다시는 청소를 빼먹지 않겠습니다.\n"
          ]
        }
      ]
    },
    {
      "cell_type": "markdown",
      "metadata": {
        "id": "y1BgbiiV1H11"
      },
      "source": [
        "> range()는 종료숫자-1 까지 포함한다"
      ]
    },
    {
      "cell_type": "code",
      "metadata": {
        "id": "tGmtMY-Z0k8p",
        "colab": {
          "base_uri": "https://localhost:8080/"
        },
        "outputId": "961f3538-a2ec-4b44-b22f-e2eddd4b4eab"
      },
      "source": [
        "for a in range(1, 11) :\n",
        "    print(a, '선생님, 다시는 청소를 빼먹지 않겠습니다.')"
      ],
      "execution_count": 5,
      "outputs": [
        {
          "output_type": "stream",
          "name": "stdout",
          "text": [
            "1 선생님, 다시는 청소를 빼먹지 않겠습니다.\n",
            "2 선생님, 다시는 청소를 빼먹지 않겠습니다.\n",
            "3 선생님, 다시는 청소를 빼먹지 않겠습니다.\n",
            "4 선생님, 다시는 청소를 빼먹지 않겠습니다.\n",
            "5 선생님, 다시는 청소를 빼먹지 않겠습니다.\n",
            "6 선생님, 다시는 청소를 빼먹지 않겠습니다.\n",
            "7 선생님, 다시는 청소를 빼먹지 않겠습니다.\n",
            "8 선생님, 다시는 청소를 빼먹지 않겠습니다.\n",
            "9 선생님, 다시는 청소를 빼먹지 않겠습니다.\n",
            "10 선생님, 다시는 청소를 빼먹지 않겠습니다.\n"
          ]
        }
      ]
    },
    {
      "cell_type": "markdown",
      "metadata": {
        "id": "_8ebt0AF1bAw"
      },
      "source": [
        "> range()에서 시작숫자가 0일 때에는 생략 가능"
      ]
    },
    {
      "cell_type": "code",
      "metadata": {
        "id": "B1X6olKc1kuJ",
        "colab": {
          "base_uri": "https://localhost:8080/"
        },
        "outputId": "be397598-9275-479d-a0f3-2746a8ea02e6"
      },
      "source": [
        "for a in range(10) :\n",
        "    print(a, '선생님, 다시는 청소를 빼먹지 않겠습니다.')"
      ],
      "execution_count": 6,
      "outputs": [
        {
          "output_type": "stream",
          "name": "stdout",
          "text": [
            "0 선생님, 다시는 청소를 빼먹지 않겠습니다.\n",
            "1 선생님, 다시는 청소를 빼먹지 않겠습니다.\n",
            "2 선생님, 다시는 청소를 빼먹지 않겠습니다.\n",
            "3 선생님, 다시는 청소를 빼먹지 않겠습니다.\n",
            "4 선생님, 다시는 청소를 빼먹지 않겠습니다.\n",
            "5 선생님, 다시는 청소를 빼먹지 않겠습니다.\n",
            "6 선생님, 다시는 청소를 빼먹지 않겠습니다.\n",
            "7 선생님, 다시는 청소를 빼먹지 않겠습니다.\n",
            "8 선생님, 다시는 청소를 빼먹지 않겠습니다.\n",
            "9 선생님, 다시는 청소를 빼먹지 않겠습니다.\n"
          ]
        }
      ]
    },
    {
      "cell_type": "markdown",
      "metadata": {
        "id": "nDc1ylrt03nH"
      },
      "source": [
        "# 3. for i in data :\n",
        "일반적으로 반복문에서는 i라는 변수를 사용합니다"
      ]
    },
    {
      "cell_type": "markdown",
      "metadata": {
        "id": "uYdboDiW4n7G"
      },
      "source": [
        "1부터 50까지의 숫자의 합을 구해보자.\n",
        "ex) 1+2+3+...49+50"
      ]
    },
    {
      "cell_type": "code",
      "metadata": {
        "id": "qQGYUE-M4nZD",
        "colab": {
          "base_uri": "https://localhost:8080/"
        },
        "outputId": "dd07671b-990e-431c-cc7b-3caca9e1d41e"
      },
      "source": [
        "result = 0\n",
        "for i in range(1, 51) :\n",
        "    result += i\n",
        "    # print(result)\n",
        "\n",
        "print(result)"
      ],
      "execution_count": 7,
      "outputs": [
        {
          "output_type": "stream",
          "name": "stdout",
          "text": [
            "1275\n"
          ]
        }
      ]
    },
    {
      "cell_type": "markdown",
      "metadata": {
        "id": "ZFSryQew5TMk"
      },
      "source": [
        "숫자 하나를 입력받고, 1부터 입력받은 숫자까지의 곱을 구해보세요.\n",
        "<br/>\n",
        "ex) 5를 입력받은 경우, 1x2x3x4x5 결과 출력하기"
      ]
    },
    {
      "cell_type": "code",
      "metadata": {
        "id": "J8hgPMKC06eR",
        "colab": {
          "base_uri": "https://localhost:8080/"
        },
        "outputId": "dd44367e-50a9-40cd-8f8e-e1cca1779901"
      },
      "source": [
        "result = 1\n",
        "for i in range(1, int(input())+1) :\n",
        "    result *= i\n",
        "\n",
        "print(result)\n"
      ],
      "execution_count": 11,
      "outputs": [
        {
          "output_type": "stream",
          "name": "stdout",
          "text": [
            "5\n",
            "120\n"
          ]
        }
      ]
    },
    {
      "cell_type": "code",
      "source": [
        "num = int(input('숫자 입력 ->'))\n",
        "result = 1\n",
        "\n",
        "for i in range(1, num+1) :\n",
        "    result *= i\n",
        "print(result)"
      ],
      "metadata": {
        "colab": {
          "base_uri": "https://localhost:8080/"
        },
        "id": "-Mv_hbgnOZqa",
        "outputId": "f966a908-bf77-4912-c9bf-26ba2094999e"
      },
      "execution_count": 12,
      "outputs": [
        {
          "output_type": "stream",
          "name": "stdout",
          "text": [
            "숫자 입력 ->5\n",
            "120\n"
          ]
        }
      ]
    },
    {
      "cell_type": "markdown",
      "metadata": {
        "id": "wHPuVO9W57ym"
      },
      "source": [
        "# 4. 구구단 출력 프로그램\n",
        "4단 출력하기 <br/>\n",
        "\n",
        "```\n",
        "4 x 1 = 4\n",
        "4 x 2 = 8\n",
        "...\n",
        "4 x 8 = 32\n",
        "4 x 9 = 36\n",
        "```\n",
        "\n",
        "\n"
      ]
    },
    {
      "cell_type": "code",
      "metadata": {
        "id": "3g1T-QQw5u2b",
        "colab": {
          "base_uri": "https://localhost:8080/"
        },
        "outputId": "84bcf31a-e92a-411c-ffe6-ec01937d9863"
      },
      "source": [
        "for i in range(1, 10) :\n",
        "    print('4 x', i, '= ', 4*i)"
      ],
      "execution_count": 13,
      "outputs": [
        {
          "output_type": "stream",
          "name": "stdout",
          "text": [
            "4 x 1 =  4\n",
            "4 x 2 =  8\n",
            "4 x 3 =  12\n",
            "4 x 4 =  16\n",
            "4 x 5 =  20\n",
            "4 x 6 =  24\n",
            "4 x 7 =  28\n",
            "4 x 8 =  32\n",
            "4 x 9 =  36\n"
          ]
        }
      ]
    },
    {
      "cell_type": "markdown",
      "metadata": {
        "id": "v_SeRM6N7IH8"
      },
      "source": [
        "구구단 외울 단을 입력받아, 해당 숫자의 구구단을 외워봅시다.<br/>\n",
        "ex. 5를 입력받으면 5단 외우기"
      ]
    },
    {
      "cell_type": "code",
      "metadata": {
        "id": "wvdfZY6F7ChW",
        "colab": {
          "base_uri": "https://localhost:8080/"
        },
        "outputId": "ebeeaf17-c3b2-465c-9aea-22b464ce3a44"
      },
      "source": [
        "num = int(input('몇 단을 외워볼까요?'))\n",
        "for i in range(1, 10) :\n",
        "    print(num, 'x', i, '= ', num*i)"
      ],
      "execution_count": 16,
      "outputs": [
        {
          "output_type": "stream",
          "name": "stdout",
          "text": [
            "몇 단을 외워볼까요?3\n",
            "3 x 1 =  3\n",
            "3 x 2 =  6\n",
            "3 x 3 =  9\n",
            "3 x 4 =  12\n",
            "3 x 5 =  15\n",
            "3 x 6 =  18\n",
            "3 x 7 =  21\n",
            "3 x 8 =  24\n",
            "3 x 9 =  27\n"
          ]
        }
      ]
    },
    {
      "cell_type": "markdown",
      "metadata": {
        "id": "_uWiKA3x7tVP"
      },
      "source": [
        "# 5. 랜덤 구구단 게임 작성하기\n",
        "\n",
        "랜덤으로 곱셈문제를 내고, 답을 맞추는 게임"
      ]
    },
    {
      "cell_type": "markdown",
      "metadata": {
        "id": "1CLls7wl72Yr"
      },
      "source": [
        "### 라이브러리란\n",
        "<img src='https://github.com/teacher-jiejie/allinone_AI/blob/images/47_%EB%9D%BC%EC%9D%B4%EB%B8%8C%EB%9F%AC%EB%A6%AC.png?raw=true' width=500>\n",
        "<br/>\n",
        "<br/>\n",
        "\n",
        "<img src='https://github.com/teacher-jiejie/allinone_AI/blob/images/48_%EB%9D%BC%EC%9D%B4%EB%B8%8C%EB%9F%AC%EB%A6%AC.png?raw=true' width=500>"
      ]
    },
    {
      "cell_type": "code",
      "metadata": {
        "id": "dZkX0MhL7dsF",
        "colab": {
          "base_uri": "https://localhost:8080/"
        },
        "outputId": "89f26db2-8ef9-4d1d-ed63-166fe8532ec0"
      },
      "source": [
        "import random\n",
        "\n",
        "random.random()"
      ],
      "execution_count": 18,
      "outputs": [
        {
          "output_type": "execute_result",
          "data": {
            "text/plain": [
              "0.6932533272403006"
            ]
          },
          "metadata": {},
          "execution_count": 18
        }
      ]
    },
    {
      "cell_type": "code",
      "metadata": {
        "id": "as2Vnvfb8eV-",
        "colab": {
          "base_uri": "https://localhost:8080/"
        },
        "outputId": "461b3665-6300-4f9c-dd4d-78be0ce310f2"
      },
      "source": [
        "help(random.random)"
      ],
      "execution_count": 19,
      "outputs": [
        {
          "output_type": "stream",
          "name": "stdout",
          "text": [
            "Help on built-in function random:\n",
            "\n",
            "random() method of random.Random instance\n",
            "    random() -> x in the interval [0, 1).\n",
            "\n"
          ]
        }
      ]
    },
    {
      "cell_type": "code",
      "metadata": {
        "id": "TZd2F3ZE8hMs",
        "colab": {
          "base_uri": "https://localhost:8080/"
        },
        "outputId": "960db8e5-f0f0-47a6-d88e-02d5604fd205"
      },
      "source": [
        "random.randint(1, 10)"
      ],
      "execution_count": 21,
      "outputs": [
        {
          "output_type": "execute_result",
          "data": {
            "text/plain": [
              "7"
            ]
          },
          "metadata": {},
          "execution_count": 21
        }
      ]
    },
    {
      "cell_type": "code",
      "metadata": {
        "id": "iRxkK6oJ9PaH",
        "colab": {
          "base_uri": "https://localhost:8080/"
        },
        "outputId": "8f5ba34d-1e8b-4b5e-f4fc-801767057809"
      },
      "source": [
        "help(random.randint)"
      ],
      "execution_count": 22,
      "outputs": [
        {
          "output_type": "stream",
          "name": "stdout",
          "text": [
            "Help on method randint in module random:\n",
            "\n",
            "randint(a, b) method of random.Random instance\n",
            "    Return random integer in range [a, b], including both end points.\n",
            "\n"
          ]
        }
      ]
    },
    {
      "cell_type": "markdown",
      "metadata": {
        "id": "xH8dkBjp9g2I"
      },
      "source": [
        "구구단 게임 형식 \n",
        "\n",
        "\n",
        "```\n",
        "구구단을 외자! 구구단을 외자! \n",
        "7 x 9 ? 63\n",
        "3 x 7 ? 21\n",
        "....\n",
        "```\n",
        "\n"
      ]
    },
    {
      "cell_type": "code",
      "metadata": {
        "id": "X307OmrI9RAr",
        "colab": {
          "base_uri": "https://localhost:8080/"
        },
        "outputId": "8237c24a-becc-40a6-bb3a-03e87ecd5a8c"
      },
      "source": [
        "import random\n",
        "\n",
        "for i in range(5) :\n",
        "    num1 = random.randint(2, 9)\n",
        "    num2 = random.randint(1, 9)\n",
        "    print(num1, 'x', num2, '?')"
      ],
      "execution_count": 24,
      "outputs": [
        {
          "output_type": "stream",
          "name": "stdout",
          "text": [
            "2 x 5 ?\n",
            "7 x 9 ?\n",
            "3 x 9 ?\n",
            "3 x 7 ?\n",
            "2 x 3 ?\n"
          ]
        }
      ]
    },
    {
      "cell_type": "markdown",
      "metadata": {
        "id": "WWRqZgGm-ZtL"
      },
      "source": [
        "구구단 게임에 입력칸을 만들어주자!"
      ]
    },
    {
      "cell_type": "code",
      "metadata": {
        "id": "RMtCyLNw-Xii",
        "colab": {
          "base_uri": "https://localhost:8080/"
        },
        "outputId": "eb55f768-d3c1-4cda-ea2e-e59303c50419"
      },
      "source": [
        "for i in range(5) :\n",
        "    num1 = random.randint(2, 9)\n",
        "    num2 = random.randint(1, 9)\n",
        "    question = str(num1)+'x'+str(num2)+'?'\n",
        "    input(question)"
      ],
      "execution_count": 25,
      "outputs": [
        {
          "name": "stdout",
          "output_type": "stream",
          "text": [
            "3x2?6\n",
            "7x1?7\n",
            "6x4?24\n",
            "8x9?2222\n",
            "7x7?2\n"
          ]
        }
      ]
    },
    {
      "cell_type": "markdown",
      "metadata": {
        "id": "yhW5H934_Lw6"
      },
      "source": [
        "# 6. 반복문 안의 조건문\n",
        "랜덤 구구단 게임에서 입력된 답이 틀렸을 때, '땡! 정답은 00입니다' 출력하기"
      ]
    },
    {
      "cell_type": "code",
      "metadata": {
        "id": "7n-5WOkm-p0w",
        "colab": {
          "base_uri": "https://localhost:8080/"
        },
        "outputId": "addc0d83-2b92-4590-ef15-6937210e64d8"
      },
      "source": [
        "for i in range(5) :\n",
        "    num1 = random.randint(2, 9)\n",
        "    num2 = random.randint(1, 9)\n",
        "    question = str(num1)+'x'+str(num2)+'?'\n",
        "    answer = int(input(question))\n",
        "\n",
        "    # 만약 잡이 틀릴 경우\n",
        "    if answer != num1*num2 :\n",
        "        print('땡! 정답은', num1*num2, '입니다!')\n"
      ],
      "execution_count": 26,
      "outputs": [
        {
          "output_type": "stream",
          "name": "stdout",
          "text": [
            "8x6?1\n",
            "땡! 정답은 48 입니다!\n",
            "4x6?24\n",
            "6x4?1\n",
            "땡! 정답은 24 입니다!\n",
            "2x1?2\n",
            "6x6?22\n",
            "땡! 정답은 36 입니다!\n"
          ]
        }
      ]
    },
    {
      "cell_type": "markdown",
      "metadata": {
        "id": "qDNUZNuU__KR"
      },
      "source": [
        "1부터 30까지 숫자의 홀수 짝수 판별하기"
      ]
    },
    {
      "cell_type": "code",
      "metadata": {
        "id": "D-vRuwUl_ykp",
        "colab": {
          "base_uri": "https://localhost:8080/"
        },
        "outputId": "5afa6d83-6120-456e-cc08-fe80a6cb661e"
      },
      "source": [
        "for i in range(1, 31):\n",
        "    if i % 2 == 0 :\n",
        "        print(i, '짝수')\n",
        "    else :\n",
        "        print(i, '홀수')\n"
      ],
      "execution_count": 28,
      "outputs": [
        {
          "output_type": "stream",
          "name": "stdout",
          "text": [
            "1 홀수\n",
            "2 짝수\n",
            "3 홀수\n",
            "4 짝수\n",
            "5 홀수\n",
            "6 짝수\n",
            "7 홀수\n",
            "8 짝수\n",
            "9 홀수\n",
            "10 짝수\n",
            "11 홀수\n",
            "12 짝수\n",
            "13 홀수\n",
            "14 짝수\n",
            "15 홀수\n",
            "16 짝수\n",
            "17 홀수\n",
            "18 짝수\n",
            "19 홀수\n",
            "20 짝수\n",
            "21 홀수\n",
            "22 짝수\n",
            "23 홀수\n",
            "24 짝수\n",
            "25 홀수\n",
            "26 짝수\n",
            "27 홀수\n",
            "28 짝수\n",
            "29 홀수\n",
            "30 짝수\n"
          ]
        }
      ]
    },
    {
      "cell_type": "code",
      "metadata": {
        "id": "SoaJb-WVAZqu"
      },
      "source": [],
      "execution_count": null,
      "outputs": []
    }
  ]
}