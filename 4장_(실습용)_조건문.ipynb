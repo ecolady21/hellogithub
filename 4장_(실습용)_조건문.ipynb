{
  "nbformat": 4,
  "nbformat_minor": 0,
  "metadata": {
    "colab": {
      "provenance": [],
      "include_colab_link": true
    },
    "kernelspec": {
      "name": "python3",
      "display_name": "Python 3"
    }
  },
  "cells": [
    {
      "cell_type": "markdown",
      "metadata": {
        "id": "view-in-github",
        "colab_type": "text"
      },
      "source": [
        "<a href=\"https://colab.research.google.com/github/ecolady21/hellogithub/blob/main/4%EC%9E%A5_(%EC%8B%A4%EC%8A%B5%EC%9A%A9)_%EC%A1%B0%EA%B1%B4%EB%AC%B8.ipynb\" target=\"_parent\"><img src=\"https://colab.research.google.com/assets/colab-badge.svg\" alt=\"Open In Colab\"/></a>"
      ]
    },
    {
      "cell_type": "markdown",
      "metadata": {
        "id": "IgU4y4cdCo3v"
      },
      "source": [
        "#  1. 조건문 if\n",
        "\n",
        "**조건문 : 조건을 충족할 때에만 선택적으로 실행되는 명령어**\n",
        "</br>\n",
        "**=선택구조**\n",
        "</br>\n",
        "\n",
        "\n",
        "```\n",
        "조건 A를 충족할 때에만\n",
        "B해라\n",
        "\n",
        "ex. 성인일 때에만 주류를 판매해라 \n",
        "```\n",
        "\n",
        "<img src = 'https://github.com/teacher-jiejie/allinone_AI/blob/images/71_if.png?raw=true' width=500>\n",
        "\n"
      ]
    },
    {
      "cell_type": "code",
      "metadata": {
        "id": "MkpSM5DyCp78",
        "colab": {
          "base_uri": "https://localhost:8080/"
        },
        "outputId": "cb7119b7-c85e-4bf1-808e-97afe09bc90d"
      },
      "source": [
        "# 만약 미성년자라면 술을 구매할 수 없다고 출력\n",
        "age = 16\n",
        "\n",
        "if age < 20 :\n",
        "    print('술을 구매할 수 없습니다.')\n"
      ],
      "execution_count": 3,
      "outputs": [
        {
          "output_type": "stream",
          "name": "stdout",
          "text": [
            "술을 구매할 수 없습니다.\n"
          ]
        }
      ]
    },
    {
      "cell_type": "markdown",
      "metadata": {
        "id": "fn3FlsHEYSiA"
      },
      "source": [
        "<img src = 'https://github.com/teacher-jiejie/allinone_AI/blob/images/10_%EC%84%A0%ED%83%9D%EA%B5%AC%EC%A1%B0%20%EB%8F%99%EC%9E%91%EC%9B%90%EB%A6%AC.png?raw=true' width =800>"
      ]
    },
    {
      "cell_type": "markdown",
      "metadata": {
        "id": "iIllPy22YGxI"
      },
      "source": [
        "> 조건문에서는 들여쓰기를 조심하세요!\n",
        "</br>\n",
        "<img src ='https://github.com/teacher-jiejie/allinone_AI/blob/images/10_%EC%84%A0%ED%83%9D%EA%B5%AC%EC%A1%B0%20%EB%93%A4%EC%97%AC%EC%93%B0%EA%B8%B0%20png.png?raw=true' width=200>"
      ]
    },
    {
      "cell_type": "markdown",
      "metadata": {
        "id": "vpkrmOpKIurV"
      },
      "source": [
        "물건 금액을 입력받고 물건이 오만원 미만일 경우 배송비 2500원을 더해서 결제금액을 안내하시오. "
      ]
    },
    {
      "cell_type": "code",
      "metadata": {
        "id": "F0zdyUHuCp_5",
        "colab": {
          "base_uri": "https://localhost:8080/"
        },
        "outputId": "4aa9e994-d7f1-4f50-e2f3-ba805fac85c0"
      },
      "source": [
        "price = int(input('물건 가격은? '))\n",
        "\n",
        "if price < 50000 :\n",
        "    price += 2500\n",
        "\n",
        "print('총 결제금액은', price)\n"
      ],
      "execution_count": 5,
      "outputs": [
        {
          "output_type": "stream",
          "name": "stdout",
          "text": [
            "물건 가격은? 100000\n",
            "총 결제금액은 100000\n"
          ]
        }
      ]
    },
    {
      "cell_type": "markdown",
      "metadata": {
        "id": "A5d31d8QYY3s"
      },
      "source": [
        "# 2. 조건을 만드는 비교연산자\n",
        "\n",
        "a와 b가 같다면\n",
        "> if a == b :      \n",
        "\n",
        "</br>\n",
        "\n",
        "a와 b가 같지 않다면\n",
        "\n",
        "> if a != b :   \n",
        "\n",
        "</br>\n",
        "</br>\n",
        "\n",
        "a가 b보다 크다면\n",
        "> if a > b :     \n",
        "\n",
        "a가 b보다 크거나 같다면 \n",
        "> if a >= b :      \n",
        "\n",
        "a가 b보다 작다면\n",
        "> if a < b :        \n",
        "\n",
        "a가 b보다 작거나 같다면\n",
        "> if a <= b :      \n"
      ]
    },
    {
      "cell_type": "markdown",
      "metadata": {
        "id": "pC042qGEkl4T"
      },
      "source": [
        "출석 혹은 결석 둘 중 하나를 입력받고, 출석을 입력받았을 경우 O를 출력하기"
      ]
    },
    {
      "cell_type": "code",
      "metadata": {
        "id": "MkSuyWQ5eFKC",
        "colab": {
          "base_uri": "https://localhost:8080/"
        },
        "outputId": "e961cc52-ff49-4086-d86e-49374df490f8"
      },
      "source": [
        "check = input('출석 혹은 결석을 입력하세요.')\n",
        "\n",
        "if check == '출석' :\n",
        "    print('O')"
      ],
      "execution_count": 8,
      "outputs": [
        {
          "output_type": "stream",
          "name": "stdout",
          "text": [
            "출석 혹은 결석을 입력하세요.출석\n",
            "O\n"
          ]
        }
      ]
    },
    {
      "cell_type": "markdown",
      "metadata": {
        "id": "NyCBjh41EVVn"
      },
      "source": [
        "# 3. if-else 조건문\n",
        "조건을 충족하지 않을 때 실행하는 명령어\n",
        "\n",
        "\n",
        "```\n",
        "만약 조건 A라면, \n",
        "    B해라\n",
        "그렇지 않으면,\n",
        "    C해라\n",
        "```\n",
        "\n",
        "<img src = 'https://github.com/teacher-jiejie/allinone_AI/blob/images/70_else.png?raw=true' width=400>\n"
      ]
    },
    {
      "cell_type": "code",
      "metadata": {
        "id": "9o7hV4p9CqE2",
        "colab": {
          "base_uri": "https://localhost:8080/"
        },
        "outputId": "4e8fb818-2e1c-483a-8ee3-7a7017b0d813"
      },
      "source": [
        "age = 22\n",
        "\n",
        "if age < 20 :\n",
        "    print('술을 구매할 수 없습니다.')\n",
        "else :\n",
        "    print('감사합니다. 안녕히가세요.')"
      ],
      "execution_count": 10,
      "outputs": [
        {
          "output_type": "stream",
          "name": "stdout",
          "text": [
            "감사합니다. 안녕히가세요.\n"
          ]
        }
      ]
    },
    {
      "cell_type": "markdown",
      "metadata": {
        "id": "kLlhbmxaU5Br"
      },
      "source": [
        "자동 출석 시스템 \n",
        "```\n",
        "출석 혹은 결석을 입력받아 출석이면 O을 출력, 출석이 아니면 X를 출력하기\n",
        "입력안내문 : 출석 혹은 결석을 입력하세요\n",
        "```\n",
        "\n"
      ]
    },
    {
      "cell_type": "code",
      "metadata": {
        "id": "7TAwKdmcTpUu",
        "colab": {
          "base_uri": "https://localhost:8080/"
        },
        "outputId": "30de9f24-8be2-4697-f841-5393f93a3ae3"
      },
      "source": [
        "check = input('출석 혹은 결석을 입력하세요.')\n",
        "\n",
        "if check =='출석' :\n",
        "    print('O')\n",
        "else :\n",
        "    print('X')"
      ],
      "execution_count": 14,
      "outputs": [
        {
          "output_type": "stream",
          "name": "stdout",
          "text": [
            "출석 혹은 결석을 입력하세요.지각\n",
            "X\n"
          ]
        }
      ]
    },
    {
      "cell_type": "markdown",
      "metadata": {
        "id": "H3lACF-xoWgO"
      },
      "source": [
        "무인계산기 프로그램\n",
        "\n",
        "\n",
        "```\n",
        "목욕탕에서 무인계산기를 설치했다. \n",
        "성인 요금은 15000원, 미성년자 요금은 6000원이다. \n",
        "나이를 입력받아 성인이면 price(요금을 저장하는 변수)에 15000을, 미성년자라면 6000을 저장하기 \n",
        "```\n",
        "\n"
      ]
    },
    {
      "cell_type": "code",
      "metadata": {
        "id": "ADkXah-ynI6P",
        "colab": {
          "base_uri": "https://localhost:8080/"
        },
        "outputId": "54084a65-8bf7-4646-da70-6027bb5a0fc5"
      },
      "source": [
        "age = int(input('나이가 어떻게 되세요?'))\n",
        "\n",
        "if age >= 20 :\n",
        "    price = 15000\n",
        "    print('성인은', price, '원입니다.')\n",
        "else :\n",
        "    price = 6000\n",
        "    print('미성년자는', price, '원입니다.')"
      ],
      "execution_count": 18,
      "outputs": [
        {
          "output_type": "stream",
          "name": "stdout",
          "text": [
            "나이가 어떻게 되세요?15\n",
            "미성년자는 6000 원입니다.\n"
          ]
        }
      ]
    },
    {
      "cell_type": "markdown",
      "metadata": {
        "id": "dB3x0QJuxCgB"
      },
      "source": [
        "# 4. elif 조건문\n",
        "\n",
        "<img src='https://github.com/teacher-jiejie/allinone_AI/blob/images/68_elif.png?raw=true' width=400>\n"
      ]
    },
    {
      "cell_type": "markdown",
      "metadata": {
        "id": "2mnojcUty6z7"
      },
      "source": [
        "최저 주문금액이 있는 새벽배송 \n",
        "\n",
        "\n",
        "```\n",
        "- 최저 구매금액이 2만 원 \n",
        "- 5만 원 미만은 배송비 2500원 추가\n",
        "- 5만 원 이상 이면 무료배송\n",
        "\n",
        "구매금액을 입력받아 조건 별로 \n",
        "- '새벽배송이 불가합니다.'\n",
        "- '배송비 2500원이 추가됩니다.'\n",
        "- '무료배송됩니다.'\n",
        "중 하나를 출력하기\n",
        "```\n",
        "\n",
        "<img src='https://github.com/teacher-jiejie/allinone_AI/blob/images/67_elif.png?raw=true' width=600>"
      ]
    },
    {
      "cell_type": "code",
      "metadata": {
        "id": "wVJyrAfb30ah"
      },
      "source": [
        "price = int(input('구매금액은?'))\n",
        "\n",
        "if price <20000 :\n",
        "    print('새벽배송이 불가합니다.')\n",
        "elif price < 50000 :\n",
        "    print('배송비 2500원이 추가됩니다.')\n",
        "else :\n",
        "    print('무료배송됩니다.')"
      ],
      "execution_count": null,
      "outputs": []
    }
  ]
}