{
  "nbformat": 4,
  "nbformat_minor": 0,
  "metadata": {
    "colab": {
      "name": "3장-(실습용)-변수.ipynb",
      "provenance": [],
      "include_colab_link": true
    },
    "kernelspec": {
      "name": "python3",
      "display_name": "Python 3"
    }
  },
  "cells": [
    {
      "cell_type": "markdown",
      "metadata": {
        "id": "view-in-github",
        "colab_type": "text"
      },
      "source": [
        "<a href=\"https://colab.research.google.com/github/ecolady21/hellogithub/blob/main/3%EC%9E%A5_(%EC%8B%A4%EC%8A%B5%EC%9A%A9)_%EB%B3%80%EC%88%98.ipynb\" target=\"_parent\"><img src=\"https://colab.research.google.com/assets/colab-badge.svg\" alt=\"Open In Colab\"/></a>"
      ]
    },
    {
      "cell_type": "markdown",
      "metadata": {
        "id": "V1qdZa0ljBQz"
      },
      "source": [
        "# 1. 변수\n",
        "\n",
        "\n",
        "> 변수이름 = 저장할 데이터\n",
        "\n",
        "\n",
        "<img src = 'https://github.com/teacher-jiejie/allinone_AI/blob/images/%E1%84%87%E1%85%A7%E1%86%AB%E1%84%89%E1%85%AE%E1%84%8B%E1%85%B5%E1%84%86%E1%85%B5%E1%84%8C%E1%85%B5.png?raw=true' width =500>\n",
        "\n",
        "\n"
      ]
    },
    {
      "cell_type": "code",
      "metadata": {
        "id": "qGjujI1abo3T",
        "colab": {
          "base_uri": "https://localhost:8080/"
        },
        "outputId": "ac0e219e-3d47-4e1f-81a2-426d0565e7d0"
      },
      "source": [
        "a = '안녕'\n",
        "print(a)"
      ],
      "execution_count": 1,
      "outputs": [
        {
          "output_type": "stream",
          "name": "stdout",
          "text": [
            "안녕\n"
          ]
        }
      ]
    },
    {
      "cell_type": "code",
      "metadata": {
        "id": "xuAWxMcSPCCH",
        "colab": {
          "base_uri": "https://localhost:8080/"
        },
        "outputId": "857f78fc-bda7-47e0-89fc-fcfaa34164af"
      },
      "source": [
        "print('a')"
      ],
      "execution_count": 2,
      "outputs": [
        {
          "output_type": "stream",
          "name": "stdout",
          "text": [
            "a\n"
          ]
        }
      ]
    },
    {
      "cell_type": "code",
      "metadata": {
        "id": "9d4QKvR6bo5d",
        "colab": {
          "base_uri": "https://localhost:8080/"
        },
        "outputId": "15b4c269-e790-410b-f244-2bac236365bf"
      },
      "source": [
        "b = '학생'\n",
        "c = '고등'\n",
        "d = '대'\n",
        "print(c+b)"
      ],
      "execution_count": 9,
      "outputs": [
        {
          "output_type": "stream",
          "name": "stdout",
          "text": [
            "고등학생\n"
          ]
        }
      ]
    },
    {
      "cell_type": "code",
      "metadata": {
        "id": "egu4zLhuPXzC",
        "colab": {
          "base_uri": "https://localhost:8080/"
        },
        "outputId": "58a5aa8d-208c-49da-906a-ccba2ef30cab"
      },
      "source": [
        "print(d+b)"
      ],
      "execution_count": 10,
      "outputs": [
        {
          "output_type": "stream",
          "name": "stdout",
          "text": [
            "대학생\n"
          ]
        }
      ]
    },
    {
      "cell_type": "markdown",
      "metadata": {
        "id": "YrIAYo4nP3wW"
      },
      "source": [
        "### 변수를 활용하여 연산하기 \n",
        "1) 과일 가격 계산하기"
      ]
    },
    {
      "cell_type": "code",
      "metadata": {
        "id": "gN7pzv5jbo-B"
      },
      "source": [
        "apple = 1200\n",
        "banana = 800\n",
        "kiwi = 1700"
      ],
      "execution_count": 11,
      "outputs": []
    },
    {
      "cell_type": "code",
      "metadata": {
        "id": "YY_1rgwNbpAe",
        "colab": {
          "base_uri": "https://localhost:8080/"
        },
        "outputId": "d2dd110a-0430-4a77-d191-73d94f695a4e"
      },
      "source": [
        "# 사과 3개, 바나나1개, 키위2개 구매한 가격은?\n",
        "apple*3 + banana*1 + kiwi*2"
      ],
      "execution_count": 12,
      "outputs": [
        {
          "output_type": "execute_result",
          "data": {
            "text/plain": [
              "7800"
            ]
          },
          "metadata": {},
          "execution_count": 12
        }
      ]
    },
    {
      "cell_type": "code",
      "metadata": {
        "id": "kAnHKPxlnUMO",
        "colab": {
          "base_uri": "https://localhost:8080/"
        },
        "outputId": "e777501e-a288-428e-d80d-c0b470318afe"
      },
      "source": [
        "price = apple*3 + banana*1 + kiwi*2\n",
        "print(price)"
      ],
      "execution_count": 14,
      "outputs": [
        {
          "output_type": "stream",
          "name": "stdout",
          "text": [
            "7800\n"
          ]
        }
      ]
    },
    {
      "cell_type": "markdown",
      "metadata": {
        "id": "XTITfZwoisIu"
      },
      "source": [
        "vip는 20% 할인된다. 동일한 물건을 구매했을 때 vip가 내는 가격을 새로운 변수에 저장하여 출력하기"
      ]
    },
    {
      "cell_type": "code",
      "metadata": {
        "id": "A7bhHZu-nnE_"
      },
      "source": [
        "vip_price = price * 0.8"
      ],
      "execution_count": 15,
      "outputs": []
    },
    {
      "cell_type": "code",
      "metadata": {
        "id": "I5UtDtRgnwk8",
        "colab": {
          "base_uri": "https://localhost:8080/"
        },
        "outputId": "e4a71d32-cc1f-49c5-9878-f1d0e7d0edcd"
      },
      "source": [
        "print('vip가 되시면', price, '원을', vip_price,'원에 구매가능합니다!')"
      ],
      "execution_count": 16,
      "outputs": [
        {
          "output_type": "stream",
          "name": "stdout",
          "text": [
            "vip가 되시면 7800 원을 6240.0 원에 구매가능합니다!\n"
          ]
        }
      ]
    },
    {
      "cell_type": "markdown",
      "metadata": {
        "id": "2XYFTD_fTFMY"
      },
      "source": [
        "2) 1년마다 키가 10cm씩 자라는 농구선수가 있다. \n",
        "\n",
        "\n",
        "*   2017년 - 175.5cm\n",
        "*   2018년 - 185.5cm\n",
        "*   2019년 - 195.5cm\n",
        "*   2020년 - 205.5cm\n",
        "\n",
        "\n",
        "년도별 농구선수의 키를 출력해보자\n"
      ]
    },
    {
      "cell_type": "code",
      "metadata": {
        "id": "P9RoHoaqTEdT",
        "colab": {
          "base_uri": "https://localhost:8080/"
        },
        "outputId": "9e8d7557-7882-4f20-c431-09f86efffebc"
      },
      "source": [
        "year = 2017\n",
        "height = 175.5\n",
        "print(year,'년 -', height, 'cm')\n",
        "\n",
        "year= year + 1\n",
        "height = height + 10\n",
        "print(year,'년 -', height, 'cm')\n",
        "\n",
        "year= year + 1\n",
        "height = height + 10\n",
        "print(year,'년 -', height, 'cm')\n",
        "\n",
        "year= year + 1\n",
        "height = height + 10\n",
        "print(year,'년 -', height, 'cm')\n"
      ],
      "execution_count": 22,
      "outputs": [
        {
          "output_type": "stream",
          "name": "stdout",
          "text": [
            "2017 년 - 175.5 cm\n",
            "2018 년 - 185.5 cm\n",
            "2019 년 - 195.5 cm\n",
            "2020 년 - 205.5 cm\n"
          ]
        }
      ]
    },
    {
      "cell_type": "code",
      "metadata": {
        "id": "opdfI6AZTEhz",
        "colab": {
          "base_uri": "https://localhost:8080/"
        },
        "outputId": "8434fba3-fe89-4b89-baa4-710587aaafe5"
      },
      "source": [
        "year = 2017\n",
        "height = 175.5\n",
        "print(year,'년 -', height, 'cm')\n",
        "\n",
        "year += 1\n",
        "height += 10\n",
        "print(year,'년 -', height, 'cm')\n",
        "\n",
        "year += 1\n",
        "height += 10\n",
        "print(year,'년 -', height, 'cm')\n",
        "\n",
        "year += 1\n",
        "height += 10\n",
        "print(year,'년 -', height, 'cm')"
      ],
      "execution_count": 25,
      "outputs": [
        {
          "output_type": "stream",
          "name": "stdout",
          "text": [
            "2017 년 - 175.5 cm\n",
            "2018 년 - 185.5 cm\n",
            "2019 년 - 195.5 cm\n",
            "2020 년 - 205.5 cm\n"
          ]
        }
      ]
    },
    {
      "cell_type": "markdown",
      "metadata": {
        "id": "s4qBlOzyUjIw"
      },
      "source": [
        "> 동일한 변수를 증가/감소시킬 때\n",
        "\n",
        "```\n",
        "# a에 3을 더하시오\n",
        "a = a+3\n",
        "```\n",
        "\n",
        "```\n",
        "# 간략하게 표현\n",
        "a += 3\n",
        "```"
      ]
    },
    {
      "cell_type": "code",
      "metadata": {
        "id": "2g086SCSTEj6",
        "colab": {
          "base_uri": "https://localhost:8080/"
        },
        "outputId": "e2895a75-434d-40fd-b555-f380edb113e9"
      },
      "source": [
        "year /= 2\n",
        "print(year)"
      ],
      "execution_count": 30,
      "outputs": [
        {
          "output_type": "stream",
          "name": "stdout",
          "text": [
            "1008.0\n"
          ]
        }
      ]
    },
    {
      "cell_type": "markdown",
      "metadata": {
        "id": "Pwqs0PYMWYpw"
      },
      "source": [
        "> 입력받아 저장하기"
      ]
    },
    {
      "cell_type": "code",
      "metadata": {
        "id": "q6FsC2EzWN_t",
        "colab": {
          "base_uri": "https://localhost:8080/"
        },
        "outputId": "b744948b-c7b7-4ecc-90f6-3d27713d47d2"
      },
      "source": [
        "id = input('아이디 : ')\n",
        "print('입력하신 아이디는', id)"
      ],
      "execution_count": 33,
      "outputs": [
        {
          "output_type": "stream",
          "name": "stdout",
          "text": [
            "아이디 : ecolady21\n",
            "입력하신 아이디는 ecolady21\n"
          ]
        }
      ]
    },
    {
      "cell_type": "markdown",
      "metadata": {
        "id": "BZHvWTLfU4kx"
      },
      "source": [
        "# 2. 데이터타입\n",
        "\n",
        "> 정수 int\n",
        "\n",
        "> 실수 float\n",
        "\n",
        "> 문자 str"
      ]
    },
    {
      "cell_type": "code",
      "metadata": {
        "id": "Yh4EzMknbpFi",
        "colab": {
          "base_uri": "https://localhost:8080/"
        },
        "outputId": "6b4123d4-ae1b-4140-dfa3-bcbef88dbba1"
      },
      "source": [
        "type(apple)"
      ],
      "execution_count": 34,
      "outputs": [
        {
          "output_type": "execute_result",
          "data": {
            "text/plain": [
              "int"
            ]
          },
          "metadata": {},
          "execution_count": 34
        }
      ]
    },
    {
      "cell_type": "code",
      "metadata": {
        "id": "zyFQbxIlbpHu",
        "colab": {
          "base_uri": "https://localhost:8080/"
        },
        "outputId": "3c2d9f86-38a6-486b-bd36-b1af9e87c8d9"
      },
      "source": [
        "type(banana)"
      ],
      "execution_count": 35,
      "outputs": [
        {
          "output_type": "execute_result",
          "data": {
            "text/plain": [
              "int"
            ]
          },
          "metadata": {},
          "execution_count": 35
        }
      ]
    },
    {
      "cell_type": "code",
      "metadata": {
        "id": "7frJWouPm-8e",
        "colab": {
          "base_uri": "https://localhost:8080/"
        },
        "outputId": "db771ec8-e937-45d3-de4d-b06652fa5548"
      },
      "source": [
        "type(vip_price)"
      ],
      "execution_count": 36,
      "outputs": [
        {
          "output_type": "execute_result",
          "data": {
            "text/plain": [
              "float"
            ]
          },
          "metadata": {},
          "execution_count": 36
        }
      ]
    },
    {
      "cell_type": "code",
      "metadata": {
        "id": "_m8OTfEln_Qn",
        "colab": {
          "base_uri": "https://localhost:8080/"
        },
        "outputId": "d0db6a10-3216-465f-fb45-61245312dba0"
      },
      "source": [
        "type(b)"
      ],
      "execution_count": 37,
      "outputs": [
        {
          "output_type": "execute_result",
          "data": {
            "text/plain": [
              "str"
            ]
          },
          "metadata": {},
          "execution_count": 37
        }
      ]
    },
    {
      "cell_type": "markdown",
      "metadata": {
        "id": "iE7vQvAqSLQJ"
      },
      "source": [
        "# 3. 데이터타입 변경하기\n",
        "변경하려는 데이터타입으로 감싸주기\n",
        "\n",
        "> 정수로 변경하기\n",
        "<br/> int(변수)\n",
        "\n",
        "> 실수로 변경하기\n",
        "<br/> float(변수)\n",
        "\n",
        "> 문자로 변경하기\n",
        "<br/> str(변수)\n",
        "\n"
      ]
    },
    {
      "cell_type": "code",
      "metadata": {
        "id": "m0Q-OfX8oAfP",
        "colab": {
          "base_uri": "https://localhost:8080/"
        },
        "outputId": "015ba051-e26a-4797-c24a-cb0c1fd1225d"
      },
      "source": [
        "# 정수를 실수로 \n",
        "print(apple)\n",
        "apple = float(apple)\n",
        "print(apple)"
      ],
      "execution_count": 40,
      "outputs": [
        {
          "output_type": "stream",
          "name": "stdout",
          "text": [
            "1200\n",
            "1200.0\n"
          ]
        }
      ]
    },
    {
      "cell_type": "code",
      "metadata": {
        "id": "JMm4V8_RpJgf",
        "colab": {
          "base_uri": "https://localhost:8080/"
        },
        "outputId": "f76631f3-d6ae-46f6-b1a1-4f16890bb0b5"
      },
      "source": [
        "# 실수를 정수로\n",
        "print(vip_price)\n",
        "vip_price = int(vip_price)\n",
        "print(vip_price)"
      ],
      "execution_count": 41,
      "outputs": [
        {
          "output_type": "stream",
          "name": "stdout",
          "text": [
            "6240.0\n",
            "6240\n"
          ]
        }
      ]
    },
    {
      "cell_type": "markdown",
      "metadata": {
        "id": "QE3RzURDQc_J"
      },
      "source": [
        "# 4. 원의 둘레, 넓이, 구의 겉넓이, 부피 구하기\n",
        "\n",
        "<img src='https://github.com/teacher-jiejie/allinone_AI/blob/images/%EC%9B%90%20%EA%B4%80%EB%A0%A8%20%EA%B3%B5%EC%8B%9D.png?raw=true' width = 300>"
      ]
    },
    {
      "cell_type": "code",
      "metadata": {
        "id": "iMRYFpdZQXNz",
        "colab": {
          "base_uri": "https://localhost:8080/"
        },
        "outputId": "aa47ddc5-22c6-4630-a738-b3754c971eba"
      },
      "source": [
        "r = 5\n",
        "p = 3.141592\n",
        "\n",
        "# 원의 둘레 -> circle_length\n",
        "c_len = 2*p*r\n",
        "\n",
        "# 원의 넓이 -> circle_area\n",
        "c_area = p*r**2\n",
        "\n",
        "# 구의 겉넓이 -> sphere_area\n",
        "s_area = 4*p*r**2\n",
        "\n",
        "# 구의 부피 -> sphere_volume\n",
        "s_volume = 4/3*p*r**3\n",
        "\n",
        "print('원의 둘레는', c_len)\n",
        "print('원의 넓이는', c_area)\n",
        "print('구의 겉넓이는', s_area)\n",
        "print('구의 부피는', s_volume)"
      ],
      "execution_count": 43,
      "outputs": [
        {
          "output_type": "stream",
          "name": "stdout",
          "text": [
            "원의 둘레는 31.41592\n",
            "원의 넓이는 78.5398\n",
            "구의 겉넓이는 314.1592\n",
            "구의 부피는 523.5986666666666\n"
          ]
        }
      ]
    },
    {
      "cell_type": "markdown",
      "metadata": {
        "id": "AHPS_AzrSBij"
      },
      "source": [
        "실습 : 반지름을 입력받아서, 입력받은 반지름을 갖는 원의 둘레, 넓이, 구 겉넓이, 부피를 구하시오"
      ]
    },
    {
      "cell_type": "code",
      "metadata": {
        "id": "GS8rFYRoRzWi",
        "colab": {
          "base_uri": "https://localhost:8080/",
          "height": 253
        },
        "outputId": "1ec92c7a-b3d0-4af2-bfd1-cfa173824897"
      },
      "source": [
        "r = input()\n",
        "p = 3.141592\n",
        "\n",
        "# 원의 둘레 -> circle_length\n",
        "c_len = 2*p*r\n",
        "\n",
        "# 원의 넓이 -> circle_area\n",
        "c_area = p*r**2\n",
        "\n",
        "# 구의 겉넓이 -> sphere_area\n",
        "s_area = 4*p*r**2\n",
        "\n",
        "# 구의 부피 -> sphere_volume\n",
        "s_volume = 4/3*p*r**3\n",
        "\n",
        "print('원의 둘레는', c_len)\n",
        "print('원의 넓이는', c_area)\n",
        "print('구의 겉넓이는', s_area)\n",
        "print('구의 부피는', s_volume)"
      ],
      "execution_count": 44,
      "outputs": [
        {
          "name": "stdout",
          "output_type": "stream",
          "text": [
            "9\n"
          ]
        },
        {
          "output_type": "error",
          "ename": "TypeError",
          "evalue": "ignored",
          "traceback": [
            "\u001b[0;31m---------------------------------------------------------------------------\u001b[0m",
            "\u001b[0;31mTypeError\u001b[0m                                 Traceback (most recent call last)",
            "\u001b[0;32m<ipython-input-44-4de095924620>\u001b[0m in \u001b[0;36m<cell line: 5>\u001b[0;34m()\u001b[0m\n\u001b[1;32m      3\u001b[0m \u001b[0;34m\u001b[0m\u001b[0m\n\u001b[1;32m      4\u001b[0m \u001b[0;31m# 원의 둘레 -> circle_length\u001b[0m\u001b[0;34m\u001b[0m\u001b[0;34m\u001b[0m\u001b[0m\n\u001b[0;32m----> 5\u001b[0;31m \u001b[0mc_len\u001b[0m \u001b[0;34m=\u001b[0m \u001b[0;36m2\u001b[0m\u001b[0;34m*\u001b[0m\u001b[0mp\u001b[0m\u001b[0;34m*\u001b[0m\u001b[0mr\u001b[0m\u001b[0;34m\u001b[0m\u001b[0;34m\u001b[0m\u001b[0m\n\u001b[0m\u001b[1;32m      6\u001b[0m \u001b[0;34m\u001b[0m\u001b[0m\n\u001b[1;32m      7\u001b[0m \u001b[0;31m# 원의 넓이 -> circle_area\u001b[0m\u001b[0;34m\u001b[0m\u001b[0;34m\u001b[0m\u001b[0m\n",
            "\u001b[0;31mTypeError\u001b[0m: can't multiply sequence by non-int of type 'float'"
          ]
        }
      ]
    },
    {
      "cell_type": "code",
      "metadata": {
        "id": "EhVafoGoXB0Y",
        "colab": {
          "base_uri": "https://localhost:8080/",
          "height": 53
        },
        "outputId": "647fcad0-667d-48c4-ac45-6cb74ccc8ddc"
      },
      "source": [
        "input('반지름은?')"
      ],
      "execution_count": 45,
      "outputs": [
        {
          "name": "stdout",
          "output_type": "stream",
          "text": [
            "반지름은?9\n"
          ]
        },
        {
          "output_type": "execute_result",
          "data": {
            "text/plain": [
              "'9'"
            ],
            "application/vnd.google.colaboratory.intrinsic+json": {
              "type": "string"
            }
          },
          "metadata": {},
          "execution_count": 45
        }
      ]
    },
    {
      "cell_type": "code",
      "metadata": {
        "id": "Y8eiYtjYXI0X",
        "colab": {
          "base_uri": "https://localhost:8080/"
        },
        "outputId": "940fe903-ba82-423a-ab32-dcc2ffd806ab"
      },
      "source": [
        "input('반지름은?')\n",
        "r = int(r)\n",
        "type(r)"
      ],
      "execution_count": 47,
      "outputs": [
        {
          "name": "stdout",
          "output_type": "stream",
          "text": [
            "반지름은?9\n"
          ]
        },
        {
          "output_type": "execute_result",
          "data": {
            "text/plain": [
              "int"
            ]
          },
          "metadata": {},
          "execution_count": 47
        }
      ]
    },
    {
      "cell_type": "code",
      "metadata": {
        "id": "KLBICyWuX9ts",
        "colab": {
          "base_uri": "https://localhost:8080/"
        },
        "outputId": "851ed951-c8f9-47af-f1e6-47c861a41b54"
      },
      "source": [
        "r = input('반지름은? ')\n",
        "r = int(r)\n",
        "p = 3.141592\n",
        "\n",
        "# 원의 둘레 -> circle_length\n",
        "c_len = 2*p*r\n",
        "\n",
        "# 원의 넓이 -> circle_area\n",
        "c_area = p*r**2\n",
        "\n",
        "# 구의 겉넓이 -> sphere_area\n",
        "s_area = 4*p*r**2\n",
        "\n",
        "# 구의 부피 -> sphere_volume\n",
        "s_volume = 4/3*p*r**3\n",
        "\n",
        "print('원의 둘레는', c_len)\n",
        "print('원의 넓이는', c_area)\n",
        "print('구의 겉넓이는', s_area)\n",
        "print('구의 부피는', s_volume)"
      ],
      "execution_count": 48,
      "outputs": [
        {
          "output_type": "stream",
          "name": "stdout",
          "text": [
            "반지름은? 5\n",
            "원의 둘레는 31.41592\n",
            "원의 넓이는 78.5398\n",
            "구의 겉넓이는 314.1592\n",
            "구의 부피는 523.5986666666666\n"
          ]
        }
      ]
    },
    {
      "cell_type": "markdown",
      "metadata": {
        "id": "LcMyhj6OYFAW"
      },
      "source": [
        "윗 줄의 r과 아랫줄의 r은 동일하므로 두 줄을 한 줄로 줄여서 표현하기\n",
        "\n",
        "\n",
        "```\n",
        "r = input('반지름은? ')\n",
        "r = int(r)\n",
        "type(r)\n",
        "```\n",
        "\n"
      ]
    },
    {
      "cell_type": "code",
      "metadata": {
        "id": "N2X3lSjVXigp",
        "colab": {
          "base_uri": "https://localhost:8080/"
        },
        "outputId": "7853d0b4-e8fa-44b1-ba82-e0e352be9ed6"
      },
      "source": [
        "r = int(input('반지름은? '))\n",
        "type(r)"
      ],
      "execution_count": 49,
      "outputs": [
        {
          "name": "stdout",
          "output_type": "stream",
          "text": [
            "반지름은? 5\n"
          ]
        },
        {
          "output_type": "execute_result",
          "data": {
            "text/plain": [
              "int"
            ]
          },
          "metadata": {},
          "execution_count": 49
        }
      ]
    },
    {
      "cell_type": "code",
      "metadata": {
        "id": "BeBJsLj0X51F",
        "colab": {
          "base_uri": "https://localhost:8080/"
        },
        "outputId": "4ee722dd-d40c-4a86-8daf-3479f3724f59"
      },
      "source": [
        "r = int(input('반지름은? '))\n",
        "p = 3.141592\n",
        "\n",
        "# 원의 둘레 -> circle_length\n",
        "c_len = 2*p*r\n",
        "\n",
        "# 원의 넓이 -> circle_area\n",
        "c_area = p*r**2\n",
        "\n",
        "# 구의 겉넓이 -> sphere_area\n",
        "s_area = 4*p*r**2\n",
        "\n",
        "# 구의 부피 -> sphere_volume\n",
        "s_volume = 4/3*p*r**3\n",
        "\n",
        "print('원의 둘레는', c_len)\n",
        "print('원의 넓이는', c_area)\n",
        "print('구의 겉넓이는', s_area)\n",
        "print('구의 부피는', s_volume)"
      ],
      "execution_count": 52,
      "outputs": [
        {
          "output_type": "stream",
          "name": "stdout",
          "text": [
            "반지름은? 5\n",
            "원의 둘레는 31.41592\n",
            "원의 넓이는 78.5398\n",
            "구의 겉넓이는 314.1592\n",
            "구의 부피는 523.5986666666666\n"
          ]
        }
      ]
    },
    {
      "cell_type": "code",
      "metadata": {
        "id": "0NxkHjWGYRBk"
      },
      "source": [],
      "execution_count": null,
      "outputs": []
    }
  ]
}